{
 "cells": [
  {
   "cell_type": "code",
   "execution_count": 210,
   "metadata": {
    "collapsed": true,
    "hideOutput": true
   },
   "outputs": [],
   "source": [
    "from util import *\n",
    "from estimator import *\n",
    "import numpy as np\n",
    "import random\n",
    "import tensorflow as tf\n",
    "slim = tf.contrib.slim\n",
    "tf.reset_default_graph()"
   ]
  },
  {
   "cell_type": "code",
   "execution_count": 211,
   "metadata": {
    "collapsed": true
   },
   "outputs": [],
   "source": [
    "eps = 1e-7\n",
    "ns  = 10\n",
    "batch = 8070\n",
    "tau = tf.placeholder(tf.float32)\n",
    "cc  = tf.placeholder(tf.float32,[200])\n",
    "dd  = tf.placeholder(tf.float32)\n",
    "kk  = tf.placeholder(tf.float32,[200])\n",
    "\n",
    "lr  = tf.placeholder(tf.float32)\n",
    "y_ = tf.placeholder(tf.float32, [batch, 392])\n",
    "x  = tf.placeholder(tf.float32, [batch, 392])"
   ]
  },
  {
   "cell_type": "code",
   "execution_count": 212,
   "metadata": {
    "collapsed": true,
    "scrolled": false
   },
   "outputs": [],
   "source": [
    "def nets(estimator):\n",
    "    h = slim.fully_connected(x,200,activation_fn=tf.nn.sigmoid)\n",
    "    nh= tf.tile(h,[ns,1])\n",
    "    u = tf.random_uniform(tf.shape(nh))\n",
    "    s = tf.reshape(estimator(nh,u,tau,cc,dd,kk), [-1,200])\n",
    "    h2= slim.fully_connected(slim.flatten(s),200,activation_fn=tf.nn.sigmoid)\n",
    "    u2= tf.random_uniform(tf.shape(h2))\n",
    "    s2= tf.reshape(estimator(h2,u2,tau,cc,dd,kk), [-1,200])\n",
    "    y = slim.fully_connected(s2,392,activation_fn=None)\n",
    "    \n",
    "    yy  = tf.reduce_sum(tf.nn.sigmoid_cross_entropy_with_logits(labels=tf.tile(y_,[ns,1]),logits=y),1)\n",
    "    ye  = -tf.reduce_logsumexp(tf.reshape(-yy,[ns,-1,1]), 0) + tf.log(tf.cast(ns,tf.float32))\n",
    "\n",
    "    return tf.reduce_mean(ye), ye, tf.reduce_mean(tf.reshape(tf.nn.sigmoid(y),[ns,-1,392]),0)"
   ]
  },
  {
   "cell_type": "code",
   "execution_count": 213,
   "metadata": {
    "collapsed": true
   },
   "outputs": [],
   "source": [
    "def fit_model(filename,_lr,t,c,k):\n",
    "    steps = 100\n",
    "    with tf.Session() as sess:\n",
    "        sess.run(tf.global_variables_initializer())\n",
    "        saver = tf.train.Saver()\n",
    "        train_loss = np.empty(steps)\n",
    "        val_loss   = np.empty(steps) \n",
    "        test_loss  = np.empty(steps)\n",
    "        var_g      = np.empty((steps))        \n",
    "        \n",
    "        d = 2.\n",
    "        for i in xrange(steps*1000):\n",
    "            batch_   = np.reshape(random.sample(data_train, batch), [batch,-1])\n",
    "            batch_xs = (np.random.uniform(0.,1.,[batch,392])<batch_[:, 0:392]).astype(float)\n",
    "            batch_ys = (np.random.uniform(0.,1.,[batch,392])<batch_[:, 392:784]).astype(float)\n",
    "            res, _ = sess.run([loss, train], {x: batch_xs, y_: batch_ys, lr: _lr, tau:t, cc:c, kk:k, dd:d})\n",
    "            \n",
    "            if i % 1000 == 1:\n",
    "                train_loss[i/1000] = res\n",
    "                var_g[i/1000] = sess.run(vg,{x:batch_xs, y_:batch_ys, lr:_lr, tau:t, cc:c, kk:k, dd:d})\n",
    "                \n",
    "                if filename[:2]=='MX':\n",
    "                    d = 3. - np.exp(-0.00001*i)\n",
    "                    c = np.exp(-0.00001*i)\n",
    "                    k = 1. - np.minimum(np.exp(-0.00001*i),0.1)\n",
    "                else:\n",
    "                    t = np.maximum(np.exp(-0.00003*i),0.1)\n",
    "                    \n",
    "                batch_ = np.reshape(random.sample(data_val, batch), [batch,-1])\n",
    "                batch_xs, batch_ys = batch_[:, 0:392], batch_[:, 392:784]\n",
    "                val_loss[i/1000] = sess.run(loss, {x: batch_xs, y_: batch_ys, tau:1e-3, cc:1., kk:1.,dd:5.})\n",
    "\n",
    "                batch_ = np.reshape(random.sample(data_test, batch), [batch,-1])\n",
    "                batch_xs, batch_ys = batch_[:, 0:392], batch_[:, 392:784]\n",
    "                test_loss[i/1000] = sess.run(loss, {x: batch_xs, y_: batch_ys, tau:1e-3, cc:1., kk:1.,dd:5.})\n",
    "                print train_loss[i/1000],test_loss[i/1000],var_g[i/1000]\n",
    "        np.save('thesis_data/SNN/OMNIGLOT/'+filename+'/loss_rec', [train_loss, val_loss, test_loss, var_g])\n",
    "        save_path = saver.save(sess, 'thesis_data/SNN/OMNIGLOT/'+filename+\"/model.ckpt\")"
   ]
  },
  {
   "cell_type": "code",
   "execution_count": 214,
   "metadata": {},
   "outputs": [],
   "source": [
    "#data_train, data_val, data_test = bmnist()\n",
    "data_train, data_val, data_test = bomniglot()"
   ]
  },
  {
   "cell_type": "code",
   "execution_count": 87,
   "metadata": {
    "collapsed": true
   },
   "outputs": [
    {
     "name": "stdout",
     "output_type": "stream",
     "text": [
      "270.129669189 255.919815063 0.131634056568\n",
      "72.6702346802 69.1760559082 0.0973714739084\n",
      "83.5995559692 78.8026046753 0.503358900547\n",
      "68.9828567505 86.7719345093 0.437556624413\n",
      "64.8835830688 69.2442016602 0.289725899696\n",
      "74.7145614624 61.2848854065 0.554977595806\n",
      "77.3778762817 78.6003494263 0.569929540157\n",
      "72.0613937378 67.7802352905 0.951523721218\n",
      "62.230682373 69.3622360229 0.725941717625\n",
      "71.0205001831 67.1907272339 0.599214851856\n",
      "70.8999557495 79.8214187622 0.657054126263\n",
      "60.94480896 67.6233139038 0.747613370419\n",
      "90.2439880371 64.1577682495 1.85720026493\n",
      "71.4847488403 81.0579452515 0.624397277832\n",
      "78.3867263794 80.7732086182 1.29942417145\n",
      "65.3676986694 71.8241424561 0.845887064934\n",
      "70.1993026733 80.8053894043 0.745782911777\n",
      "62.8126411438 77.4190139771 0.775200724602\n",
      "86.5014419556 62.955871582 2.16390895844\n",
      "59.4989814758 67.3432693481 0.55821365118\n",
      "81.7664337158 77.074760437 1.47970151901\n",
      "78.9359817505 78.0291671753 1.36249792576\n",
      "78.3799743652 72.4192199707 0.941338062286\n",
      "67.5746536255 66.8059310913 1.22629141808\n",
      "63.3364868164 56.6454467773 1.09059894085\n",
      "67.5197982788 63.0490913391 1.12713336945\n",
      "70.9158325195 74.7195053101 3.03335118294\n",
      "74.9682693481 60.7846183777 0.70888543129\n",
      "66.5226745605 73.9787063599 0.622692644596\n",
      "67.0533370972 77.8391723633 1.00217318535\n",
      "64.377494812 69.2153930664 1.93095898628\n",
      "65.5104064941 69.8927993774 0.814424991608\n",
      "61.3188972473 60.3591003418 1.20828819275\n",
      "67.4245834351 77.9754257202 1.32074427605\n",
      "69.3952102661 78.3939743042 1.98117685318\n",
      "77.091003418 55.2432861328 1.3705534935\n",
      "76.8343887329 62.4793357849 1.90679466724\n",
      "65.2110977173 89.4511642456 1.74640274048\n",
      "66.1265029907 63.8336677551 0.816758573055\n",
      "58.265422821 69.6272506714 3.09592032433\n",
      "76.9390182495 82.8053512573 2.15021300316\n",
      "69.8123703003 67.6154785156 1.06373465061\n",
      "71.8716659546 66.9415969849 1.32622563839\n",
      "65.933303833 59.7854270935 1.43811917305\n",
      "67.4822921753 62.6707496643 0.845996141434\n",
      "78.8930130005 69.2343826294 0.939879894257\n",
      "68.8966293335 67.9165649414 1.15419352055\n",
      "74.1672363281 77.6834182739 1.5768712759\n",
      "72.073677063 90.0844345093 1.09861624241\n",
      "64.2420883179 75.4999542236 2.49242401123\n",
      "60.2197303772 60.3625679016 1.39274394512\n",
      "80.7334442139 76.444732666 3.07469153404\n",
      "66.5655441284 75.9973297119 1.85389113426\n",
      "75.592918396 58.1734008789 3.63070559502\n",
      "67.9639358521 62.1030578613 3.80533242226\n",
      "79.1512374878 65.2958450317 5.14972114563\n",
      "67.8307800293 64.436088562 1.37609243393\n",
      "67.175239563 60.7320213318 4.56141138077\n",
      "60.7611198425 66.8578872681 1.70027697086\n",
      "59.4190826416 74.1520309448 3.36110973358\n",
      "66.7738265991 61.2497367859 1.37311959267\n",
      "68.2725906372 64.1443557739 1.66302704811\n",
      "63.9258003235 75.3842315674 1.15946507454\n",
      "64.8828582764 69.8506774902 1.45190882683\n",
      "67.1296463013 72.1091690063 0.992146015167\n",
      "69.0548782349 70.7462921143 2.40389609337\n",
      "61.1248474121 79.0828704834 3.58938837051\n",
      "63.6055488586 70.1087036133 1.88155591488\n",
      "69.820930481 71.023765564 3.92286086082\n",
      "68.0273132324 71.6996841431 4.55819511414\n",
      "68.6981201172 71.9904785156 2.39893507957\n",
      "58.1451225281 72.6678848267 3.42598080635\n",
      "57.6165351868 73.3857727051 1.13647186756\n",
      "71.9828109741 66.1253585815 4.87275075912\n",
      "72.0909729004 71.3927001953 8.23623752594\n",
      "71.00440979 70.5801010132 0.93578350544\n",
      "69.2932662964 78.4418869019 3.28699159622\n",
      "73.267539978 71.2262802124 1.91829228401\n",
      "75.5835647583 75.9281082153 1.71248996258\n",
      "68.4541549683 75.5686340332 1.90774929523\n",
      "70.4229202271 79.3210144043 5.00321674347\n",
      "65.0351638794 73.5954437256 8.84984397888\n",
      "57.0504951477 71.171043396 3.86799287796\n",
      "81.2627716064 77.6487960815 1.41879475117\n",
      "61.6344108582 72.6329498291 1.11210334301\n",
      "66.7753295898 68.7762298584 1.4487490654\n",
      "58.6963996887 63.0930938721 2.4400947094\n",
      "70.2993392944 60.5772514343 2.30375218391\n",
      "66.1307144165 71.8879547119 3.4499502182\n",
      "59.6002922058 69.7298202515 2.98775410652\n",
      "67.4126358032 78.8442764282 1.97263407707\n",
      "57.9537467957 65.1542739868 27.5307826996\n",
      "80.2425765991 60.4981193542 1.54947221279\n",
      "76.4451065063 71.439994812 2.71073627472\n",
      "61.4852256775 60.995639801 3.32308840752\n",
      "75.2178421021 59.652545929 4.61232662201\n",
      "59.6417388916 79.6083374023 11.0439491272\n",
      "65.0902938843 72.6537246704 9.36485671997\n",
      "74.0484237671 64.2068099976 2.64581918716\n",
      "61.560382843 66.7159729004 34.6116714478\n"
     ]
    }
   ],
   "source": [
    "loss, vl, _ = nets(mse)\n",
    "vg = [jacobian(vl, slim.get_model_variables()[z]) for z in range(4)]\n",
    "vg = [tf.reduce_sum(tf.square(z-tf.reduce_mean(z,0))) for z in vg]\n",
    "vg = tf.reduce_mean(vg)\n",
    "train=tf.train.AdamOptimizer(learning_rate=lr).minimize(loss,var_list=slim.get_model_variables())\n",
    "fit_model('MX1e-3', 1e-3, .1, 1., .9)"
   ]
  },
  {
   "cell_type": "code",
   "execution_count": 215,
   "metadata": {
    "collapsed": true
   },
   "outputs": [],
   "source": [
    "def gen(dn,mn):\n",
    "    with tf.Session() as sess:\n",
    "        saver = tf.train.Saver()\n",
    "        batch_ = data_test\n",
    "        batch_xs, batch_ys = batch_[:, 0:392], batch_[:, 392:784]\n",
    "        s_ = []\n",
    "        s_.append(batch_ys[:100])\n",
    "        for ii in mn:\n",
    "            saver.restore(sess, dn+ii+\"/model.ckpt\")\n",
    "\n",
    "            tl, s = sess.run([tnll,ss], {x: batch_xs, y_: batch_ys})\n",
    "            print tl\n",
    "            s_.append(s[:100])\n",
    "        return batch_xs[:100], s_"
   ]
  },
  {
   "cell_type": "code",
   "execution_count": 208,
   "metadata": {},
   "outputs": [
    {
     "name": "stdout",
     "output_type": "stream",
     "text": [
      "INFO:tensorflow:Restoring parameters from SNN/MNIST/GB1e-3/model.ckpt\n",
      "61.0764\n",
      "INFO:tensorflow:Restoring parameters from SNN/MNIST/ST3e-4_/model.ckpt\n",
      "61.7474\n",
      "INFO:tensorflow:Restoring parameters from SNN/MNIST/AST1e-3/model.ckpt\n",
      "61.5708\n",
      "INFO:tensorflow:Restoring parameters from SNN/MNIST/MX1e-3_3.0/model.ckpt\n",
      "61.1707\n"
     ]
    }
   ],
   "source": [
    "tnll, _, ss = nets(discrete)\n",
    "a, b = gen('SNN/MNIST/',\n",
    "           ['GB1e-3','ST3e-4_','AST1e-3','MX1e-3_3.0'])"
   ]
  },
  {
   "cell_type": "code",
   "execution_count": 216,
   "metadata": {
    "scrolled": false
   },
   "outputs": [
    {
     "name": "stdout",
     "output_type": "stream",
     "text": [
      "INFO:tensorflow:Restoring parameters from SNN/OMNIGLOT/GB1e-3_/model.ckpt\n",
      "70.7637\n",
      "INFO:tensorflow:Restoring parameters from SNN/OMNIGLOT/ST3e-4/model.ckpt\n",
      "70.431\n",
      "INFO:tensorflow:Restoring parameters from SNN/OMNIGLOT/AST1e-3/model.ckpt\n",
      "70.8851\n",
      "INFO:tensorflow:Restoring parameters from SNN/OMNIGLOT/MX1e-3_3.0/model.ckpt\n",
      "70.7814\n"
     ]
    }
   ],
   "source": [
    "tnll, _, ss = nets(discrete)\n",
    "a, b = gen('SNN/OMNIGLOT/',\n",
    "           ['GB1e-3_','ST3e-4','AST1e-3','MX1e-3_3.0'])"
   ]
  },
  {
   "cell_type": "code",
   "execution_count": 217,
   "metadata": {
    "collapsed": true
   },
   "outputs": [],
   "source": [
    "draw(a,b,'62',1)"
   ]
  }
 ],
 "metadata": {
  "kernelspec": {
   "display_name": "Python 2",
   "language": "python",
   "name": "python2"
  },
  "language_info": {
   "codemirror_mode": {
    "name": "ipython",
    "version": 2
   },
   "file_extension": ".py",
   "mimetype": "text/x-python",
   "name": "python",
   "nbconvert_exporter": "python",
   "pygments_lexer": "ipython2",
   "version": "2.7.13"
  }
 },
 "nbformat": 4,
 "nbformat_minor": 2
}
