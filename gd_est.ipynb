{
 "cells": [
  {
   "cell_type": "code",
   "execution_count": 368,
   "metadata": {},
   "outputs": [
    {
     "name": "stdout",
     "output_type": "stream",
     "text": [
      "Extracting MNIST_data/train-images-idx3-ubyte.gz\n",
      "Extracting MNIST_data/train-labels-idx1-ubyte.gz\n",
      "Extracting MNIST_data/t10k-images-idx3-ubyte.gz\n",
      "Extracting MNIST_data/t10k-labels-idx1-ubyte.gz\n"
     ]
    }
   ],
   "source": [
    "import numpy as np\n",
    "import tensorflow as tf\n",
    "import matplotlib.pyplot as plt\n",
    "from tensorflow.examples.tutorials.mnist import input_data\n",
    "\n",
    "Bernoulli = tf.contrib.distributions.Bernoulli\n",
    "st = tf.contrib.bayesflow.stochastic_tensor\n",
    "\n",
    "data = input_data.read_data_sets(\"MNIST_data/\", one_hot=True).test\n",
    "data.images[data.images>0.5] = 1.0\n",
    "data.images[data.images<=0.5] = 0.0"
   ]
  },
  {
   "cell_type": "code",
   "execution_count": 533,
   "metadata": {
    "collapsed": true
   },
   "outputs": [],
   "source": [
    "def add_layer(inputs, wn, bn, in_dim, out_dim, af=None):\n",
    "    try:\n",
    "        w = tf.get_variable(wn, [in_dim, out_dim], initializer=tf.truncated_normal_initializer)\n",
    "        b = tf.get_variable(bn, [1, out_dim], initializer=tf.truncated_normal_initializer)\n",
    "    except:\n",
    "        with tf.variable_scope(tf.get_variable_scope(), reuse=True):\n",
    "            w = tf.get_variable(wn, [in_dim, out_dim], initializer=tf.truncated_normal_initializer)\n",
    "            b = tf.get_variable(bn, [1, out_dim], initializer=tf.truncated_normal_initializer)\n",
    "    if af is None:\n",
    "        return tf.matmul(inputs, w) + b\n",
    "    return af(tf.matmul(inputs, w) + b)\n",
    "\n",
    "def sample(h, dim, s=1):\n",
    "    ss = st.StochasticTensor(dist=Bernoulli(probs=h, dtype=tf.float32),\n",
    "                             dist_value_type=st.SampleValue(shape=s)).value()\n",
    "    ss = tf.reshape(ss, [ns*batch_size, dim])\n",
    "    return ss\n",
    "\n",
    "def log_prob(h, sh):\n",
    "    p = sh*h + (1.0-sh)*(1.0-h)\n",
    "    return tf.log(p)"
   ]
  },
  {
   "cell_type": "code",
   "execution_count": 541,
   "metadata": {},
   "outputs": [],
   "source": [
    "def StTh(loss_y):\n",
    "    train_step = tf.train.AdamOptimizer(lr).minimize(loss_y)\n",
    "    return train_step, loss_y\n",
    "\n",
    "def LR(h1, sh1, loss, loss_y):\n",
    "    loss_h1 = tf.stop_gradient(loss) * log_prob(h1, sh1) / ns\n",
    "    loss_h1 = tf.reduce_mean(tf.reduce_sum(loss_h1, 1))\n",
    "    \n",
    "    train_step = tf.train.AdamOptimizer(lr).minimize(loss_y+loss_h1)\n",
    "    return train_step, loss_y\n",
    "\n",
    "def muProp(h1, sh1, loss, loss_y, y_):\n",
    "    ch1 = add_layer(h1, \"wh2y\", \"bh2y\", 200, 392, tf.nn.sigmoid)\n",
    "    ch1 = tf.clip_by_value(ch1, eps, 1.0-eps) \n",
    "    loss_ch1 = -tf.reduce_sum(log_prob(ch1, _y), 1, keep_dims=True)\n",
    "    dch1 = tf.gradients(loss_ch1, h1)[0]\n",
    "\n",
    "    ls = loss-loss_ch1-tf.reduce_sum(dch1*(sh1-h1), 1, keep_dims=True)\n",
    "    loss_h1 = (tf.stop_gradient(ls)*log_prob(h1, sh1) + tf.stop_gradient(dch1)*h1) / ns\n",
    "    loss_h1 = tf.reduce_mean(tf.reduce_sum(loss_h1, 1))\n",
    "    \n",
    "    train_step = tf.train.AdamOptimizer(lr).minimize(loss_y+loss_h1)    \n",
    "    return train_step, loss_y\n",
    "\n",
    "def NVIL(x, h1, sh1, loss, loss_y):\n",
    "    _bl = alpha*bl + (1.0-alpha)*loss\n",
    "    _vr = alpha*vr + (1.0-alpha)*tf.square(loss-_bl)\n",
    "    \n",
    "    ch = add_layer(x, \"wh\", \"bh\", 392, 100, tf.tanh)\n",
    "    cy = add_layer(ch, \"wy\", \"by\", 100, 1)\n",
    "    cy = tf.clip_by_value(cy, eps, 1.0-eps)\n",
    "    loss_c = tf.reduce_mean(tf.square(tf.stop_gradient(loss-_bl)-cy))\n",
    "    \n",
    "    loss_h1 = tf.stop_gradient((loss-_bl-cy)/tf.maximum(1.0,tf.sqrt(_vr))) * log_prob(h1, sh1)\n",
    "    loss_h1 = tf.reduce_mean(tf.reduce_sum(loss_h1, 1))\n",
    "    \n",
    "    train_step = tf.train.AdamOptimizer(lr).minimize(loss_y+loss_h1+loss_c)\n",
    "    return train_step, loss_y, tf.reduce_mean(_bl), tf.reduce_mean(_vr)\n",
    "\n",
    "def VI(h1, sh1, loss, loss_y):\n",
    "    q = -tf.reduce_sum(log_prob(h1, sh1), 1, keep_dims=True)\n",
    "    loss = tf.reduce_mean(loss + q) / ns\n",
    "    \n",
    "    train_step = tf.train.AdamOptimizer(lr).minimize(loss_y+loss)\n",
    "    return train_step, loss_y\n",
    "\n",
    "def DARN(h1, sh1, y_, loss_y, loss):\n",
    "    ch1 = add_layer(h1, \"wh2y\", \"bh2y\", 200, 392, tf.nn.sigmoid)\n",
    "    ch1 = tf.clip_by_value(y_*ch1+(1.0-y_)*(1.0-ch1), eps, 1.0-eps)\n",
    "    loss_ch1 = -tf.reduce_sum(tf.log(ch1), 1, keep_dims=True)\n",
    "    dch1 = tf.gradients(loss_ch1, h1)[0]\n",
    "\n",
    "    loss_h1 = tf.reduce_mean(tf.reduce_sum(\n",
    "                            tf.stop_gradient((loss-loss_ch1-tf.reduce_sum(dch1*(sh1-h1), 1, keep_dims=True))) *\n",
    "                            tf.log(sh1*h1+(1.0-sh1)*(1.0-h1)) +\n",
    "                            tf.stop_gradient(dch1)*h1, 1))\n",
    "    \n",
    "    train_step = tf.train.AdamOptimizer(lr).minimize(loss_y+loss_h1)    \n",
    "    return train_step, loss_y"
   ]
  },
  {
   "cell_type": "code",
   "execution_count": 546,
   "metadata": {},
   "outputs": [
    {
     "name": "stdout",
     "output_type": "stream",
     "text": [
      "\n"
     ]
    }
   ],
   "source": [
    "batch_size = 40\n",
    "lr = 1e-3\n",
    "ns = 10\n",
    "eps = 1e-7\n",
    "\n",
    "alpha = 0.9\n",
    "bl = tf.zeros([ns*batch_size, 1])\n",
    "vr = tf.zeros([ns*batch_size, 1])"
   ]
  },
  {
   "cell_type": "code",
   "execution_count": 547,
   "metadata": {
    "collapsed": true
   },
   "outputs": [],
   "source": [
    "x = tf.placeholder(tf.float32, [None, 392])\n",
    "y_ = tf.placeholder(tf.float32, [None, 392])\n",
    "_y = tf.tile(y_, [ns,1])\n",
    "\n",
    "h1 = add_layer(x, \"wxh1\", \"bxh1\", 392, 200, tf.nn.sigmoid)\n",
    "h1 = tf.clip_by_value(h1, eps, 1.0-eps)\n",
    "sh1 = tf.stop_gradient(sample(h1, 200, ns))\n",
    "#sh1 = tf.stop_gradient(sample(h1, 200, ns)-h1)+h1\n",
    "h1 = tf.tile(h1, [ns, 1])\n",
    "    \n",
    "y = add_layer(sh1, \"wh2y\", \"bh2y\", 200, 392, tf.nn.sigmoid)\n",
    "y_sum = tf.reduce_sum(tf.reshape(y, [ns, batch_size, 392]), 0)\n",
    "y_expect = tf.clip_by_value(y_sum/ns, eps, 1.0-eps)\n",
    "loss_y = log_prob(y_expect, y_)\n",
    "loss_y = tf.reduce_mean(-tf.reduce_sum(loss_y, 1))\n",
    "\n",
    "y = tf.clip_by_value(y, eps, 1.0-eps)\n",
    "loss = log_prob(y, _y)\n",
    "loss = -tf.reduce_sum(loss, 1, keep_dims=True)"
   ]
  },
  {
   "cell_type": "code",
   "execution_count": 551,
   "metadata": {},
   "outputs": [
    {
     "name": "stdout",
     "output_type": "stream",
     "text": [
      "\n"
     ]
    }
   ],
   "source": [
    "def train(train_op):\n",
    "    with tf.Session() as sess:    \n",
    "        ll = []\n",
    "        bll = np.zeros([ns*batch_size,1])\n",
    "        vrr= np.zeros([ns*batch_size,1])\n",
    "        sess.run(tf.global_variables_initializer())\n",
    "\n",
    "        for i in range(50000):\n",
    "            batch_ = data.next_batch(batch_size)[0]\n",
    "            batch_xs = batch_[:,0:392]\n",
    "            batch_ys = batch_[:,392:784]\n",
    "\n",
    "            res = sess.run(train_op, {x: batch_xs, y_: batch_ys, bl: bll, vr: vrr})\n",
    "            \n",
    "            bll = res[-2]\n",
    "            vrr = res[-1]\n",
    "\n",
    "            if i%1000==0:\n",
    "                ll.append(res[1])\n",
    "                print i/1000, res[1],\n",
    "    return ll"
   ]
  },
  {
   "cell_type": "code",
   "execution_count": 552,
   "metadata": {
    "collapsed": true
   },
   "outputs": [],
   "source": [
    "def muProp(h1, sh1, loss, loss_y, y_):\n",
    "    ch1 = add_layer(h1, \"wh2y\", \"bh2y\", 200, 392, tf.nn.sigmoid)\n",
    "    ch1 = tf.clip_by_value(ch1, eps, 1.0-eps) \n",
    "    loss_ch1 = -tf.reduce_sum(log_prob(ch1, _y), 1, keep_dims=True)\n",
    "    dch1 = tf.gradients(loss_ch1, h1)[0]\n",
    "    \n",
    "    ls = loss-loss_ch1-tf.reduce_sum(dch1*(sh1-h1), 1, keep_dims=True)\n",
    "\n",
    "    bb = tf.tile(tf.reduce_sum(tf.reshape(ls,[ns, batch_size, 1]),0)/ns, [ns, 1])\n",
    "    vv = tf.tile(tf.reduce_sum(tf.reshape(tf.square(ls-bb),[ns, batch_size, 1]),0)/ns, [ns, 1])\n",
    "    _bl = .9*bl + (1.0-.9)*bb\n",
    "    _vr = .9*vr + (1.0-.9)*vv\n",
    "    \n",
    "    ls = (ls-_bl)/tf.maximum(1.0, tf.sqrt(_vr))\n",
    "    loss_h1 = (tf.stop_gradient(ls)*log_prob(h1, sh1) + tf.stop_gradient(dch1)*h1) / ns\n",
    "    loss_h1 = tf.reduce_mean(tf.reduce_sum(loss_h1, 1))\n",
    "    \n",
    "    train_step = tf.train.AdamOptimizer(lr).minimize(loss_y+loss_h1)    \n",
    "    return train_step, loss_y, _bl, _vr"
   ]
  },
  {
   "cell_type": "code",
   "execution_count": 553,
   "metadata": {},
   "outputs": [
    {
     "name": "stdout",
     "output_type": "stream",
     "text": [
      "0 939.153 1 112.572 2 96.146 3 90.081 4 84.6217 5 82.135 6 89.151 7 75.4493 8 79.8218 9 89.7233 10 73.5128 11 79.7235 12 77.8607 13 85.2803 14 73.2525 15 73.1238 16 74.7458 17 80.2518 18 75.6133 19 66.4176 20 62.5335 21 83.4002 22 70.1571 23 74.9665 24 64.6561 25 70.2347 26 69.8028 27 64.4802 28 66.6 29 67.9834 30 64.2197 31 64.1065 32 66.2581 33 67.3335 34 68.0701 35 67.9338 36 71.7601 37 56.7216 38 65.4074 39 62.6691 40 69.3249 41 70.4274 42 61.0286 43 75.8739 44 73.6606 45 61.3145 46 66.1853 47 62.0726 48 62.2871 49 63.8248\n"
     ]
    }
   ],
   "source": [
    "train_op = muProp(h1, sh1, loss, loss_y, y_)\n",
    "mp3 = train(train_op)"
   ]
  },
  {
   "cell_type": "code",
   "execution_count": 554,
   "metadata": {},
   "outputs": [
    {
     "data": {
      "image/png": "[encoded data removed]",
      "text/plain": [
       "<matplotlib.figure.Figure at 0x13bbf8390>"
      ]
     },
     "metadata": {},
     "output_type": "display_data"
    }
   ],
   "source": [
    "px = np.linspace(1, 50, 50)\n",
    "plt.ylim(55, 120)\n",
    "#mp=naive, mp2=10 sample, mp3=10 sample with b v\n",
    "plt.plot(px, mp, px, mp2, px, mp3)\n",
    "plt.show()"
   ]
  },
  {
   "cell_type": "code",
   "execution_count": null,
   "metadata": {},
   "outputs": [],
   "source": [
    "train_op = StTh(loss_y)\n",
    "stl = train(train_op)"
   ]
  },
  {
   "cell_type": "code",
   "execution_count": null,
   "metadata": {},
   "outputs": [],
   "source": [
    "train_op = LR(h1, sh1, loss, loss_y)\n",
    "lhr = train(train_op)"
   ]
  },
  {
   "cell_type": "code",
   "execution_count": null,
   "metadata": {},
   "outputs": [],
   "source": [
    "train_op = NVIL(x, h1, sh1, loss, loss_y)\n",
    "nv = train(train_op)"
   ]
  },
  {
   "cell_type": "code",
   "execution_count": null,
   "metadata": {},
   "outputs": [],
   "source": [
    "train_op = VI(h1, sh1, loss, loss_y)\n",
    "vii = train(train_op)"
   ]
  },
  {
   "cell_type": "code",
   "execution_count": null,
   "metadata": {},
   "outputs": [],
   "source": [
    "px = np.linspace(1, 50, 50)\n",
    "plt.ylim(55, 120)\n",
    "plt.plot(px, lhr, px, mp, px, nv, px, vii)\n",
    "plt.show()"
   ]
  }
 ],
 "metadata": {
  "kernelspec": {
   "display_name": "Python 2",
   "language": "python",
   "name": "python2"
  },
  "language_info": {
   "codemirror_mode": {
    "name": "ipython",
    "version": 2
   },
   "file_extension": ".py",
   "mimetype": "text/x-python",
   "name": "python",
   "nbconvert_exporter": "python",
   "pygments_lexer": "ipython2",
   "version": "2.7.13"
  }
 },
 "nbformat": 4,
 "nbformat_minor": 2
}
