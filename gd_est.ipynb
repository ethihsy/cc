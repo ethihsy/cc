{
 "cells": [
  {
   "cell_type": "code",
   "execution_count": 1,
   "metadata": {},
   "outputs": [
    {
     "name": "stdout",
     "output_type": "stream",
     "text": [
      "Extracting MNIST_data/train-images-idx3-ubyte.gz\n",
      "Extracting MNIST_data/train-labels-idx1-ubyte.gz\n",
      "Extracting MNIST_data/t10k-images-idx3-ubyte.gz\n",
      "Extracting MNIST_data/t10k-labels-idx1-ubyte.gz\n"
     ]
    }
   ],
   "source": [
    "import numpy as np\n",
    "import tensorflow as tf\n",
    "import matplotlib.pyplot as plt\n",
    "from tensorflow.examples.tutorials.mnist import input_data\n",
    "\n",
    "Bernoulli = tf.contrib.distributions.Bernoulli\n",
    "st = tf.contrib.bayesflow.stochastic_tensor\n",
    "\n",
    "data = input_data.read_data_sets(\"MNIST_data/\", one_hot=True).test\n",
    "data.images[data.images>0.5] = 1.0\n",
    "data.images[data.images<=0.5] = 0.0"
   ]
  },
  {
   "cell_type": "code",
   "execution_count": 2,
   "metadata": {
    "collapsed": true
   },
   "outputs": [],
   "source": [
    "batch_size = 40\n",
    "ns = 1\n",
    "lr = 1e-3\n",
    "eps = 1e-7\n",
    "alpha = 0.9\n",
    "PD = False\n",
    "\n",
    "def add_layer(inputs, wn, bn, in_dim, out_dim, af=None):\n",
    "    try:\n",
    "        w = tf.get_variable(wn, [in_dim, out_dim], initializer=tf.truncated_normal_initializer)\n",
    "        b = tf.get_variable(bn, [1, out_dim], initializer=tf.truncated_normal_initializer)\n",
    "    except:\n",
    "        with tf.variable_scope(tf.get_variable_scope(), reuse=True):\n",
    "            w = tf.get_variable(wn, [in_dim, out_dim], initializer=tf.truncated_normal_initializer)\n",
    "            b = tf.get_variable(bn, [1, out_dim], initializer=tf.truncated_normal_initializer)\n",
    "    if af is None:\n",
    "        return tf.matmul(inputs, w) + b\n",
    "    return af(tf.matmul(inputs, w) + b)\n",
    "\n",
    "def get_weights(wn, bn, in_dim, out_dim):\n",
    "    with tf.variable_scope(tf.get_variable_scope(), reuse=True):\n",
    "        w = tf.get_variable(wn, [in_dim, out_dim], initializer=tf.truncated_normal_initializer)\n",
    "        b = tf.get_variable(bn, [1, out_dim], initializer=tf.truncated_normal_initializer)\n",
    "    return [w,b]\n",
    "\n",
    "def sample(p):\n",
    "    return st.StochasticTensor(dist=Bernoulli(probs=p, dtype=tf.float32),\n",
    "                               dist_value_type=st.SampleValue()).value()\n",
    "def prob(p, s):\n",
    "    return s*p + (1.0-s)*(1.0-p)\n",
    "\n",
    "x = tf.placeholder(tf.float32, [None, 392])\n",
    "yy = tf.placeholder(tf.float32, [None, 392])\n",
    "y_ = tf.tile(yy, [ns, 1])\n",
    "\n",
    "h = tf.tile(add_layer(x, \"wxh\", \"bxh\", 392, 200, tf.nn.sigmoid), [ns, 1])\n",
    "if PD is False:\n",
    "    sh = tf.stop_gradient(sample(h))\n",
    "else:\n",
    "    sh = tf.stop_gradient(sample(h)-h)+h\n",
    "y = add_layer(sh, \"why\", \"bhy\", 200, 392, tf.nn.sigmoid)\n",
    "y = prob(y, y_)\n",
    "y_expect = tf.reduce_mean(tf.reshape(y, [ns, batch_size, 392]), 0)\n",
    "nll = tf.reduce_mean(tf.reduce_sum(-tf.log(tf.clip_by_value(y_expect, eps, 1.0-eps)), 1))\n",
    "loss = tf.reduce_sum(-tf.log(tf.clip_by_value(y, eps, 1.0-eps)), 1, keep_dims=True)\n",
    "\n",
    "saver = tf.train.Saver()"
   ]
  },
  {
   "cell_type": "code",
   "execution_count": 9,
   "metadata": {},
   "outputs": [],
   "source": [
    "bsln = tf.placeholder(tf.float32)\n",
    "bslnv = tf.placeholder(tf.float32)\n",
    "opt = tf.train.AdamOptimizer(lr)\n",
    "p = tf.log(tf.clip_by_value(prob(h, sh), eps, 1.0-eps))\n",
    "\n",
    "\n",
    "def gd_est(md, linear=True):\n",
    "    func = {\n",
    "        0: LR,\n",
    "        1: muProp,\n",
    "        2: DARN,\n",
    "        3: baseline,\n",
    "        4: NVIL\n",
    "    }\n",
    "    f, g, mg, tr, m, v = func.get(md)()\n",
    "    df = opt.compute_gradients(nll+tf.reduce_mean(f, 0), [get_weights(\"wxh\", \"bxh\", 392, 200),\n",
    "                                                          get_weights(\"why\", \"bhy\", 200, 392)])\n",
    "    if g is None:\n",
    "        dg = tf.zeros([2,1])\n",
    "    else:\n",
    "        dg = opt.compute_gradients(tf.reduce_mean(g, 0), [get_weights(\"wxh\", \"bxh\", 392, 200)])\n",
    "    if mg is None:\n",
    "        dmg = tf.zeros([2,1])\n",
    "    else:\n",
    "        dmg = opt.compute_gradients(tf.reduce_mean(mg, 0), [get_weights(\"wxh\", \"bxh\", 392, 200)])\n",
    "\n",
    "    est = [list(df[0]), list(df[1]), list(df[2]), list(df[3])]\n",
    "    if linear is True:\n",
    "        est[0][0] -= dg[0][0] - dmg[0][0]\n",
    "        est[1][0] -= dg[1][0] - dmg[1][0]\n",
    "    else:\n",
    "        est[0][0] *= dmg[0][0] / (dg[0][0]+eps)\n",
    "        est[1][0] *= dmg[1][0] / (dg[1][0]+eps)\n",
    "    if tr is not None:\n",
    "        est += list(tr)\n",
    "    est[0][0] = tf.check_numerics(est[0][0],'dwxh')\n",
    "    est[1][0] = tf.check_numerics(est[1][0],'dbxh')\n",
    "    est[2][0] = tf.check_numerics(est[2][0],'dwhy')\n",
    "    est[3][0] = tf.check_numerics(est[3][0],'dbhy')    \n",
    "    train_step = opt.apply_gradients(est)\n",
    "    return train_step, nll, m, v\n",
    "\n",
    "def LR():\n",
    "    f = tf.stop_gradient(loss) * p\n",
    "    return f, None, None, None, tf.constant(0.), tf.constant(0.)\n",
    "\n",
    "def muProp():\n",
    "    ch = tf.clip_by_value(add_layer(h, \"why\", \"bhy\", 200, 392, tf.nn.sigmoid), eps, 1.0-eps)\n",
    "    loss_ch = tf.reduce_sum(-tf.log(prob(ch, y_)), 1, keep_dims=True)\n",
    "    dh = tf.gradients(loss_ch, h)[0]\n",
    "    g = tf.stop_gradient(loss_ch+tf.reduce_sum(dh*(sh-h),1,keep_dims=True)) * p\n",
    "    mg = tf.stop_gradient(dh) * h\n",
    "    f = tf.stop_gradient(loss) * p\n",
    "    return f, g, mg, None, tf.constant(0.), tf.constant(0.)\n",
    "        \n",
    "def DARN():\n",
    "    dh = tf.gradients(loss, sh)[0]\n",
    "    g = tf.stop_gradient(loss + dh*(0.5-sh)) * p\n",
    "    f = tf.stop_gradient(loss) * p\n",
    "    return f, g, None, None, tf.constant(0.), tf.constant(0.)\n",
    "\n",
    "def baseline():\n",
    "    b = alpha*bsln + (1.0-alpha)*tf.reduce_mean(loss)\n",
    "    g = tf.stop_gradient(b) * p\n",
    "    f = tf.stop_gradient(loss) * p\n",
    "    return f, g, None, None, b, tf.constant(0.)\n",
    "\n",
    "def NVIL():\n",
    "    ch = add_layer(x, \"wh\", \"bh\", 392, 100, tf.tanh)\n",
    "    cy = add_layer(ch, \"wy\", \"by\", 100, 1)\n",
    "    b = alpha*bsln + tf.reduce_mean((1.0-alpha)*(loss-cy))\n",
    "    vv = tf.reduce_mean(tf.square(loss-cy-tf.reduce_mean(loss-cy)))/tf.maximum(1.0, (ns-1))\n",
    "    v = alpha*bslnv + (1.0-alpha)*vv\n",
    "    g = tf.stop_gradient((cy+b)/tf.maximum(1.0,tf.sqrt(v))) * p\n",
    "    f = tf.stop_gradient(loss/tf.maximum(1.0,tf.sqrt(v))) * p\n",
    "    tr = opt.compute_gradients(tf.reduce_mean(tf.square(tf.stop_gradient(loss-b)-cy)), [get_weights(\"wh\", \"bh\", 392, 100),\n",
    "                                                                                        get_weights(\"wy\", \"by\", 100, 1)])\n",
    "    return f, g, None, tr, b, v\n",
    "\n",
    "def ST_():\n",
    "    train_step = tf.train.AdamOptimizer(lr).minimize(nll)\n",
    "    return train_step, nll, tf.constant(0.), tf.constant(0.)\n",
    "\n"
   ]
  },
  {
   "cell_type": "code",
   "execution_count": 11,
   "metadata": {
    "collapsed": true
   },
   "outputs": [],
   "source": [
    "def train(train_op):\n",
    "    with tf.Session() as sess:\n",
    "        bl = 0.\n",
    "        vr = 0.\n",
    "        ll = []\n",
    "        t = 0.\n",
    "        sess.run(tf.global_variables_initializer())\n",
    "\n",
    "        for i in range(50000):\n",
    "            batch_ = data.next_batch(batch_size)[0]\n",
    "            batch_xs = batch_[:,0:392]\n",
    "            batch_ys = batch_[:,392:784]\n",
    "\n",
    "            res = sess.run(train_op, {x: batch_xs, yy: batch_ys, bsln: bl, bslnv: vr})\n",
    "            bl = res[-2]\n",
    "            vr = res[-1]\n",
    "            \n",
    "            t += res[-3]\n",
    "            if (i+1)%1000==0:\n",
    "                t /= 1000\n",
    "                ll.append(t)\n",
    "                print i/1000, t,\n",
    "                t = 0. \n",
    "                \n",
    "       # save_path = saver.save(sess, \"model/model.ckpt\")\n",
    "    return ll"
   ]
  },
  {
   "cell_type": "code",
   "execution_count": 14,
   "metadata": {},
   "outputs": [
    {
     "name": "stdout",
     "output_type": "stream",
     "text": [
      "0 350.20065889 1 205.656286621 2 168.121567276 3 143.484906845 4 125.45751487 5 113.040306946 6 104.043709 7 97.9117740936 8 93.5851361771 9 90.6602395401 10 88.7328150635 11 87.3820297241 12 86.4710669861 13 85.5889910889 14 84.8494092102 15 84.1889582367 16 83.7698368759 17 83.5273413696 18 83.4326505966 19 83.0299238815 20 82.8260694351 21 82.612630806 22 82.5628891449 23 82.5549526291 24 82.4742217026 25 82.3493715668 26 82.1489689407 27 81.9680053101 28 81.9077572861 29 81.760968277 30 81.6486933746 31 81.5763012543 32 81.5168711929 33 81.3623471603 34 81.2651650467 35 81.1859680557 36 81.0554558411 37 80.9608473244 38 80.8874503937 39 80.7870106049 40 80.7534956894 41 80.8107467957 42 80.6647249374 43 80.6448443604 44 80.4836687927 45 80.4497227783 46 80.4427318192 47 80.3570456924 48 80.2366486588 49 80.2252908325\n"
     ]
    }
   ],
   "source": [
    "#train_op = ST_()\n",
    "train_op = gd_est(0)\n",
    "lhr = train(train_op)"
   ]
  },
  {
   "cell_type": "code",
   "execution_count": 19,
   "metadata": {},
   "outputs": [
    {
     "data": {
      "image/png": "[encoded data removed]",
      "text/plain": [
       "<matplotlib.figure.Figure at 0x11305f190>"
      ]
     },
     "metadata": {},
     "output_type": "display_data"
    }
   ],
   "source": [
    "fig = plt.figure()\n",
    "ax = plt.subplot(111)\n",
    "plt.xlim(0, 50)\n",
    "plt.ylim(65, 100)\n",
    "\n",
    "ax.plot(lhr, '.-',label=\"LR\")\n",
    "ax.plot(bl, '.-',label=\"baseline\")\n",
    "ax.plot(mp, '.-', label=\"muprop_linear\")\n",
    "ax.plot(mpr, '.-', label=\"muprop_ratio\")\n",
    "ax.plot(dn, '.-', label=\"darn\")\n",
    "ax.plot(nv, '.-', label=\"nvil\")\n",
    "\n",
    "plt.legend()\n",
    "plt.ylabel(\"Negative Log-Likelihood\")\n",
    "plt.xlabel(\"Steps (x1e3)\")\n",
    "plt.grid()\n",
    "plt.show()\n",
    "#fig.savefig('foo.png')"
   ]
  },
  {
   "cell_type": "code",
   "execution_count": null,
   "metadata": {
    "collapsed": true
   },
   "outputs": [],
   "source": []
  }
 ],
 "metadata": {
  "kernelspec": {
   "display_name": "Python 2",
   "language": "python",
   "name": "python2"
  },
  "language_info": {
   "codemirror_mode": {
    "name": "ipython",
    "version": 2
   },
   "file_extension": ".py",
   "mimetype": "text/x-python",
   "name": "python",
   "nbconvert_exporter": "python",
   "pygments_lexer": "ipython2",
   "version": "2.7.13"
  }
 },
 "nbformat": 4,
 "nbformat_minor": 2
}
