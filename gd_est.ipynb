{
 "cells": [
  {
   "cell_type": "code",
   "execution_count": 152,
   "metadata": {},
   "outputs": [
    {
     "name": "stdout",
     "output_type": "stream",
     "text": [
      "Extracting MNIST_data/train-images-idx3-ubyte.gz\n",
      "Extracting MNIST_data/train-labels-idx1-ubyte.gz\n",
      "Extracting MNIST_data/t10k-images-idx3-ubyte.gz\n",
      "Extracting MNIST_data/t10k-labels-idx1-ubyte.gz\n"
     ]
    }
   ],
   "source": [
    "import numpy as np\n",
    "import tensorflow as tf\n",
    "import matplotlib.pyplot as plt\n",
    "from tensorflow.examples.tutorials.mnist import input_data\n",
    "\n",
    "Bernoulli = tf.contrib.distributions.Bernoulli\n",
    "st = tf.contrib.bayesflow.stochastic_tensor\n",
    "sg = tf.contrib.bayesflow.stochastic_graph\n",
    "\n",
    "data = input_data.read_data_sets(\"MNIST_data/\", one_hot=True).test\n",
    "data.images[data.images>0.5] = 1.0\n",
    "data.images[data.images<=0.5] = 0.0"
   ]
  },
  {
   "cell_type": "code",
   "execution_count": 153,
   "metadata": {
    "collapsed": true
   },
   "outputs": [],
   "source": [
    "def add_layer(inputs, in_dim, out_dim, af=None):\n",
    "    w = tf.Variable(tf.truncated_normal([in_dim, out_dim]))\n",
    "    b = tf.Variable(tf.truncated_normal([1, out_dim]))\n",
    "    if af is None:\n",
    "        return tf.matmul(inputs, w) + b\n",
    "    return af(tf.matmul(inputs, w) + b)\n",
    "\n",
    "def plt_figure(loss, lb=0, hb=500):\n",
    "    plt.ylim(lb, hb)\n",
    "    plt.plot(loss)\n",
    "    plt.show()"
   ]
  },
  {
   "cell_type": "code",
   "execution_count": 154,
   "metadata": {},
   "outputs": [],
   "source": [
    "x = tf.placeholder(tf.float32, [None, 392])\n",
    "\n",
    "h1 = add_layer(x, 392, 200, tf.nn.sigmoid)\n",
    "h1 = tf.clip_by_value(h1, 0.001, 0.999)\n",
    "sh1 = tf.stop_gradient(st.StochasticTensor(dist=Bernoulli(probs=h1, dtype=tf.float32),\n",
    "                                           dist_value_type=st.SampleValue()).value())\n",
    "wh1h2 = tf.Variable(tf.truncated_normal([200, 200]))\n",
    "bh1h2 = tf.Variable(tf.truncated_normal([1, 200]))\n",
    "h2 = tf.nn.sigmoid(tf.matmul(sh1, wh1h2) + bh1h2)\n",
    "h2 = tf.clip_by_value(h2, 0.001, 0.999)\n",
    "sh2 = tf.stop_gradient(st.StochasticTensor(dist=Bernoulli(probs=h2, dtype=tf.float32),\n",
    "                                           dist_value_type=st.SampleValue()).value())\n",
    "wh2y = tf.Variable(tf.truncated_normal([200, 392]))\n",
    "bh2y = tf.Variable(tf.truncated_normal([1, 392]))\n",
    "y = tf.nn.sigmoid(tf.matmul(sh2, wh2y) + bh2y)\n",
    "y = tf.clip_by_value(y, 1e-7, 1.0-1e-7)\n",
    "\n",
    "y_ = tf.placeholder(tf.float32, [None, 392])\n",
    "loss = -tf.reduce_sum(y_*tf.log(y)+(1.0-y_)*tf.log(1.0-y), 1)\n",
    "\n",
    "lr=1e-3"
   ]
  },
  {
   "cell_type": "code",
   "execution_count": 155,
   "metadata": {
    "collapsed": true
   },
   "outputs": [],
   "source": [
    "ch = tf.nn.sigmoid(tf.add(tf.matmul(h1, wh1h2), bh1h2))\n",
    "cy = tf.nn.sigmoid(tf.add(tf.matmul(ch, wh2y), bh2y))\n",
    "cy = tf.clip_by_value(cy, 1e-7, 1.0-1e-7)\n",
    "loss_c = -tf.reduce_sum(y_*tf.log(cy)+(1.0-y_)*tf.log(1.0-cy), 1)\n",
    "dcy = tf.gradients(loss_c, ch)[0]\n",
    "dch = tf.gradients(loss_c, h1)[0]\n",
    "\n",
    "loss_h2 = tf.reduce_mean(tf.reduce_sum(\n",
    "                                tf.stop_gradient(tf.reshape(loss - loss_c - tf.reduce_sum(dcy*(sh2-ch),1),[-1,1])) *\n",
    "                                tf.log(sh2*h2+(1.0-sh2)*(1.0-h2)) +\n",
    "                                tf.stop_gradient(dcy)*h2, 1))\n",
    "\n",
    "loss_h1 = tf.reduce_mean(tf.reduce_sum(\n",
    "                                tf.stop_gradient(tf.reshape(loss - loss_c - tf.reduce_sum(dch*(sh1-h1),1),[-1,1])) *\n",
    "                                tf.log(sh1*h1+(1.0-sh1)*(1.0-h1)) +\n",
    "                                tf.stop_gradient(dch)*h1, 1))\n",
    "loss = tf.reduce_mean(loss)\n",
    "train_step = tf.train.AdamOptimizer(lr).minimize(loss+loss_h2+loss_h1)"
   ]
  },
  {
   "cell_type": "code",
   "execution_count": 156,
   "metadata": {},
   "outputs": [
    {
     "name": "stdout",
     "output_type": "stream",
     "text": [
      "0 1317.76 1 183.75 2 123.251 3 102.229 4 98.6772 5 93.9767 6 89.3793 7 90.1053 8 89.5728 9 84.4018 10 87.5322 11 87.8611 12 83.0337 13 81.9067 14 82.2931 15 83.6493 16 83.7321 17 78.9627 18 77.0533 19 79.519 20 80.4371 21 77.3391 22 81.988 23 76.4973 24 84.2747 25 81.9997 26 78.9626 27 75.1192 28 76.0735 29 77.353 30 77.3186 31 80.4915 32 77.8467 33 75.7359 34 77.5676 35 77.2328 36 74.4103 37 77.5189 38 74.6756 39 73.1066 40 71.0035 41 72.3989 42 76.5686 43 74.7866 44 78.0698 45 70.7118 46 72.979 47 72.947 48 71.8476 49 75.4144"
     ]
    },
    {
     "data": {
      "image/png": "[encoded data removed]",
      "text/plain": [
       "<matplotlib.figure.Figure at 0x130b75d50>"
      ]
     },
     "metadata": {},
     "output_type": "display_data"
    },
    {
     "name": "stdout",
     "output_type": "stream",
     "text": [
      "\n"
     ]
    }
   ],
   "source": [
    "with tf.Session() as sess:\n",
    "    ll = []\n",
    "    sess.run(tf.global_variables_initializer())\n",
    "\n",
    "    for i in range(50000):\n",
    "        batch_ = data.next_batch(100)[0]\n",
    "        batch_xs = batch_[:,0:392]\n",
    "        batch_ys = batch_[:,392:784]\n",
    "\n",
    "        _, ly = sess.run([train_step, loss], {x: batch_xs, y_: batch_ys})\n",
    "\n",
    "        if i%1000==0:\n",
    "            ll.append(ly)\n",
    "            print i/1000, ly,\n",
    "\n",
    "plt_figure(ll, 55, 100)"
   ]
  },
  {
   "cell_type": "code",
   "execution_count": null,
   "metadata": {
    "collapsed": true
   },
   "outputs": [],
   "source": [
    "alpha = 0.7\n",
    "bl = tf.constant(0.0)\n",
    "vr = tf.constant(0.0)\n",
    "\n",
    "_bl = alpha*bl + (1.0-alpha)*loss\n",
    "_vr = alpha*vr + (1.0-alpha)*tf.square(loss-_bl)\n",
    "'''\n",
    "ch1 = add_layer(sh1, 200, 100, tf.tanh)\n",
    "cc1 = tf.reduce_mean(add_layer(ch1, 100, 1))\n",
    "loss_c1 = tf.square(tf.stop_gradient(loss-_bl)-cc1)\n",
    "train_c1 = tf.train.AdamOptimizer(lr).minimize(loss_c1)\n",
    "\n",
    "ch2 = add_layer(sh2, 200, 100, tf.tanh)\n",
    "cc2 = tf.reduce_mean(add_layer(ch2, 100, 1))\n",
    "loss_c2 = tf.square(tf.stop_gradient(loss-_bl)-cc2)\n",
    "train_c2 = tf.train.AdamOptimizer(lr).minimize(loss_c2)\n",
    "'''\n",
    "cc1=0.0\n",
    "cc2=0.0\n",
    "loss_c1 = 0.0\n",
    "loss_c2 = 0.0\n",
    "\n",
    "loss_h1 = tf.reduce_mean(tf.stop_gradient(\n",
    "                         (loss-_bl-cc1)/tf.maximum(1.0,tf.sqrt(_vr))) * \n",
    "                         tf.log(sh1*h1+(1.0-sh1)*(1.0-h1)))\n",
    "loss_h2 = tf.reduce_mean(tf.stop_gradient(\n",
    "                         (loss-_bl-cc2)/tf.maximum(1.0,tf.sqrt(_vr))) * \n",
    "                         tf.log(sh2*h2+(1.0-sh2)*(1.0-h2)))\n",
    "\n",
    "train_step = tf.train.AdamOptimizer(lr).minimize(loss+loss_h1+loss_h2+loss_c1+loss_c2)"
   ]
  },
  {
   "cell_type": "code",
   "execution_count": null,
   "metadata": {
    "collapsed": true
   },
   "outputs": [],
   "source": [
    "with tf.Session() as sess:\n",
    "    ll = []\n",
    "    bll = 0.0\n",
    "    vrr= 0.0     \n",
    "    \n",
    "    sess.run(tf.global_variables_initializer())\n",
    "    \n",
    "    for i in range(50000):\n",
    "        batch_ = data.next_batch(100)[0]\n",
    "        batch_xs = batch_[:,0:392]\n",
    "        batch_ys = batch_[:,392:784]\n",
    "\n",
    "        _, ly, bb, vv = sess.run([train_step, loss, _bl, _vr],\n",
    "                                 {x: batch_xs, y_: batch_ys, bl: bll, vr: vrr})\n",
    "        bll = bb\n",
    "        vrr = vv\n",
    "        \n",
    "        if i%1000==0:\n",
    "            ll.append(ly)\n",
    "            print i/1000, ly,"
   ]
  },
  {
   "cell_type": "markdown",
   "metadata": {},
   "source": [
    "### LR-C-VN lr=3e-4 alpha=0.7"
   ]
  },
  {
   "cell_type": "code",
   "execution_count": null,
   "metadata": {},
   "outputs": [],
   "source": [
    "plt_figure(ll, 70, 100)"
   ]
  },
  {
   "cell_type": "markdown",
   "metadata": {},
   "source": [
    "### LR-C-VN lr=1e-3 alpha=0.7"
   ]
  },
  {
   "cell_type": "code",
   "execution_count": null,
   "metadata": {},
   "outputs": [],
   "source": [
    "plt_figure(ll, 70, 100)"
   ]
  },
  {
   "cell_type": "markdown",
   "metadata": {},
   "source": [
    "### LR-C-VN-IDB"
   ]
  },
  {
   "cell_type": "code",
   "execution_count": null,
   "metadata": {},
   "outputs": [],
   "source": [
    "plt_figure(ll, 70, 100)"
   ]
  },
  {
   "cell_type": "code",
   "execution_count": null,
   "metadata": {
    "collapsed": true
   },
   "outputs": [],
   "source": [
    "def LR(x, h1, sh1, h2, sh2, y, y_, loss):\n",
    "    loss_h1 = tf.reduce_mean(tf.stop_gradient(loss) * tf.log(sh1*h1+(1.0-sh1)*(1.0-h1)))\n",
    "    loss_h2 = tf.reduce_mean(tf.stop_gradient(loss) * tf.log(sh2*h2+(1.0-sh2)*(1.0-h2)))\n",
    "    train_step = tf.train.AdamOptimizer(lr).minimize(loss+loss_h1+loss_h2+loss_c1+loss_c2)\n",
    "    \n",
    "    with tf.Session() as sess:\n",
    "        ll = []\n",
    "        sess.run(tf.global_variables_initializer())\n",
    "\n",
    "        for i in range(50000):\n",
    "            batch_ = data.next_batch(100)[0]\n",
    "            batch_xs = batch_[:,0:392]\n",
    "            batch_ys = batch_[:,392:784]\n",
    "\n",
    "            _, ly = sess.run([train_step, loss], {x: batch_xs, y_: batch_ys})\n",
    "\n",
    "            if i%1000==0:\n",
    "                ll.append(ly)\n",
    "                print i/1000, ly,\n",
    "\n",
    "    plt_figure(ll, 70, 100)"
   ]
  },
  {
   "cell_type": "markdown",
   "metadata": {},
   "source": [
    "### LR"
   ]
  },
  {
   "cell_type": "code",
   "execution_count": null,
   "metadata": {},
   "outputs": [],
   "source": [
    "plt_figure(ll, 70, 100)"
   ]
  }
 ],
 "metadata": {
  "kernelspec": {
   "display_name": "Python 2",
   "language": "python",
   "name": "python2"
  },
  "language_info": {
   "codemirror_mode": {
    "name": "ipython",
    "version": 2
   },
   "file_extension": ".py",
   "mimetype": "text/x-python",
   "name": "python",
   "nbconvert_exporter": "python",
   "pygments_lexer": "ipython2",
   "version": "2.7.13"
  }
 },
 "nbformat": 4,
 "nbformat_minor": 2
}
