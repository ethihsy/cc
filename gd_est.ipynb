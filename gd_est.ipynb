{
 "cells": [
  {
   "cell_type": "code",
   "execution_count": 225,
   "metadata": {},
   "outputs": [
    {
     "name": "stdout",
     "output_type": "stream",
     "text": [
      "Extracting MNIST_data/train-images-idx3-ubyte.gz\n",
      "Extracting MNIST_data/train-labels-idx1-ubyte.gz\n",
      "Extracting MNIST_data/t10k-images-idx3-ubyte.gz\n",
      "Extracting MNIST_data/t10k-labels-idx1-ubyte.gz\n"
     ]
    }
   ],
   "source": [
    "import numpy as np\n",
    "import time\n",
    "import tensorflow as tf\n",
    "import matplotlib.pyplot as plt\n",
    "from tensorflow.examples.tutorials.mnist import input_data\n",
    "Bernoulli = tf.contrib.distributions.Bernoulli\n",
    "\n",
    "data = input_data.read_data_sets(\"MNIST_data/\", one_hot=True).test\n",
    "data.images[data.images>0.5] = 1.0\n",
    "data.images[data.images<=0.5] = 0.0"
   ]
  },
  {
   "cell_type": "markdown",
   "metadata": {},
   "source": [
    "### Utilitiy functions"
   ]
  },
  {
   "cell_type": "code",
   "execution_count": 226,
   "metadata": {},
   "outputs": [],
   "source": [
    "def plot_banded_error(errs, label, ax=None):\n",
    "    ax = ax or plt\n",
    "    m = np.mean(errs, axis=0)\n",
    "    s = np.std(errs, axis=0)\n",
    "    line, = ax.plot(np.arange(1, len(m)+1), m, '.-', label=label)\n",
    "\n",
    "def fatlegend(ax, *a, **kw):\n",
    "    leg = ax.legend(*a, **kw)\n",
    "    for l in leg.legendHandles:\n",
    "        l.set_linewidth(l.get_linewidth()*2.0)\n",
    "    return leg\n",
    "\n",
    "def add_layer(inputs, wn, bn, in_dim, out_dim, af=None):\n",
    "    try:\n",
    "        w = tf.get_variable(wn, [in_dim, out_dim], initializer=tf.truncated_normal_initializer)\n",
    "        b = tf.get_variable(bn, [1, out_dim], initializer=tf.truncated_normal_initializer)\n",
    "    except:\n",
    "        with tf.variable_scope(tf.get_variable_scope(), reuse=True):\n",
    "            w = tf.get_variable(wn)\n",
    "            b = tf.get_variable(bn)\n",
    "    return tf.matmul(inputs, w) + b if af is None else af(tf.matmul(inputs, w) + b)\n",
    "\n",
    "def get_weights(wn, bn):\n",
    "    with tf.variable_scope(tf.get_variable_scope(), reuse=True):\n",
    "        w = tf.get_variable(wn)\n",
    "        b = tf.get_variable(bn)\n",
    "    return [w,b]\n",
    "\n",
    "prob = lambda p, s: s*p+(1.0-s)*(1.0-p)\n",
    "log_prob = lambda p, s: tf.log(tf.clip_by_value(prob(p, s), eps, 1.0-eps))\n",
    "\n",
    "def det_pass(inputs, layer, n, _expect):\n",
    "    if layer==1:\n",
    "        inputs = add_layer(inputs, \"whh\", \"bhh\", nh, nh, tf.nn.sigmoid)\n",
    "    z = prob(add_layer(inputs, \"why\", \"bhy\", nh, 392, tf.nn.sigmoid), tf.tile(y_,[n,1]))\n",
    "    return tf.reduce_sum(z/tf.stop_gradient(tf.tile(-_expect-eps,[n,1])), 1, keep_dims=True)\n",
    "\n",
    "def stc_pass(inputs, layer, n):\n",
    "    if layer==1:\n",
    "        z = add_layer(inputs, \"whh\", \"bhh\", nh, nh, tf.nn.sigmoid)\n",
    "        inputs = tf.reshape(Bernoulli(probs=z,dtype=tf.float32).sample(n), [n*n*batch_size,nh])\n",
    "    z = add_layer(inputs, \"why\", \"bhy\", nh, 392, tf.nn.sigmoid)\n",
    "    z = tf.reduce_mean(tf.reshape(z,[n,n*batch_size,392]), 0) if layer==1 else z\n",
    "    z = prob(z, tf.tile(y_,[n,1]))\n",
    "    z_expect = tf.reduce_mean(tf.reshape(z, [n,batch_size,392]), 0)\n",
    "    return tf.reduce_sum(z/tf.stop_gradient(tf.tile(-z_expect-eps, [n,1])), 1, keep_dims=True), z_expect\n",
    "\n",
    "def fg_cov(f, g, w, n):\n",
    "    f, g = [tf.reshape(z, [n,batch_size,nh]) for z in [f,g]]\n",
    "    for i in range(n):\n",
    "        df, dg = [tf.concat(tf.gradients(tf.reduce_mean(z[i], 0), w), 0) for z in [f, g]]\n",
    "        mf, mg = [df, dg] if i==0 else [mf+df, mg+dg]\n",
    "        vg = tf.square(dg) if i==0 else vg+tf.square(dg)\n",
    "        cov = df*dg if i==0 else cov+df*dg\n",
    "    return mf/n, mg/n, (cov-mf*mg/n)/(n-1), (vg-tf.square(mg)/n)/(n-1)\n",
    "\n",
    "def gd_stats(p, s, f, g, mg, dh, w):\n",
    "    mdf, mdg = [tf.concat(tf.gradients(tf.reduce_mean(z,0), w), 0) for z in [f, g]]\n",
    "    mgd = tf.concat([dh[0][0], dh[1][0]], 0)\n",
    "    \n",
    "    f, g, s = [tf.reshape(z, [ns, batch_size, nh]) for z in [f, g, s]]\n",
    "    for i in range(ns):\n",
    "        df, dg = [tf.concat(tf.gradients(tf.reduce_mean(z, 0), w), 0) for z in [f[i], g[i]]]\n",
    "        vf = tf.square(df-mdf) if i==0 else vf+tf.square(df-mdf)\n",
    "        vg = tf.square(dg-mdg) if i==0 else vg+tf.square(dg-mdg)        \n",
    "        cov = (df-mdf)*(dg-mdg) if i==0 else cov+(df-mdf)*(dg-mdg)\n",
    "        gd = tf.concat(tf.gradients(tf.reduce_mean(f[i]-g[i]+mg, 0), w), 0)\n",
    "        vgd = tf.square(gd-mgd) if i==0 else vgd+tf.square(gd-mgd)    \n",
    "    vf, vg, cov, vgd = [tf.reduce_sum(z)/(ns-1) for z in [vf, vg, cov, vgd]]\n",
    "    return vf+vg-2*cov, vgd"
   ]
  },
  {
   "cell_type": "markdown",
   "metadata": {},
   "source": [
    "### Parameters"
   ]
  },
  {
   "cell_type": "code",
   "execution_count": 227,
   "metadata": {
    "collapsed": true
   },
   "outputs": [],
   "source": [
    "batch_size = 4\n",
    "ns = 2\n",
    "lr = 1e-3\n",
    "eps = 1e-7\n",
    "alpha = 0.9\n",
    "steps = 50000\n",
    "nh = 100"
   ]
  },
  {
   "cell_type": "markdown",
   "metadata": {},
   "source": [
    "### Sigmoid belief networks"
   ]
  },
  {
   "cell_type": "code",
   "execution_count": 228,
   "metadata": {
    "collapsed": true
   },
   "outputs": [],
   "source": [
    "x = tf.placeholder(tf.float32, [None, 392])\n",
    "h = add_layer(x, \"wxh\", \"bxh\", 392, nh, tf.nn.sigmoid)\n",
    "sh = tf.stop_gradient(tf.reshape(Bernoulli(probs=h, dtype=tf.float32).sample(ns), \n",
    "                                 [ns*batch_size, nh]))\n",
    "h2 = add_layer(sh, \"whh\", \"bhh\", nh, nh, tf.nn.sigmoid)\n",
    "sh2 = tf.stop_gradient(tf.reshape(Bernoulli(probs=h2, dtype=tf.float32).sample(ns),\n",
    "                                  [ns*ns*batch_size, nh]))\n",
    "y = add_layer(sh2, \"why\", \"bhy\", nh, 392, tf.nn.sigmoid)\n",
    "y_expect = tf.reduce_mean(tf.reshape(y, [ns**2, batch_size, 392]), 0)\n",
    "y_ = tf.placeholder(tf.float32, [None, 392])\n",
    "\n",
    "nll = tf.reduce_mean(tf.reduce_sum(-log_prob(y_expect, y_), 1))\n",
    "ls2 = tf.reduce_sum(prob(y, tf.tile(y_,[ns**2,1]))/\n",
    "                    tf.stop_gradient(tf.tile(-prob(y_expect, y_)-eps, [ns**2,1])), 1, keep_dims=True)\n",
    "ls = tf.reduce_mean(tf.reshape(ls2, [ns,ns*batch_size, 1]), 0)\n",
    "_h, _h2 = [tf.tile(z, [ns, 1]) for z in [h, h2]]\n",
    "#saver = tf.train.Saver()"
   ]
  },
  {
   "cell_type": "markdown",
   "metadata": {},
   "source": [
    "### Gradient estimators"
   ]
  },
  {
   "cell_type": "code",
   "execution_count": 229,
   "metadata": {},
   "outputs": [],
   "source": [
    "bsln = tf.placeholder(tf.float32)\n",
    "bslnv = tf.placeholder(tf.float32)\n",
    "opt = tf.train.AdamOptimizer(lr)\n",
    "\n",
    "def gd_est(md, linear, cf, sta, nn):\n",
    "    func = {\n",
    "        0: lambda p, s, layer, w, cf, nn: [tf.zeros([ns**layer*batch_size,1]), tf.zeros([1])],\n",
    "        1: muProp,\n",
    "        2: DARN,\n",
    "        3: baseline,\n",
    "        4: NVIL\n",
    "    }\n",
    "    g2, mg2 = func.get(md)(h2, sh2, 2, get_weights(\"whh\", \"bhh\"), cf, nn)\n",
    "    g, mg = func.get(md)(h, sh, 1, get_weights(\"wxh\", \"bxh\"), cf, nn)\n",
    "    f, f2 = ls, ls2\n",
    "    m = v = tf.constant(0.)\n",
    "    tr = None\n",
    "    \n",
    "    dy = opt.compute_gradients(nll, get_weights(\"why\", \"bhy\"))    \n",
    "    if linear:\n",
    "        c2 = cv_coef(h2, nn, 2, get_weights(\"whh\", \"bhh\")) if cf else tf.ones([batch_size*ns,1])        \n",
    "        c = cv_coef(h, nn, 1, get_weights(\"wxh\", \"bxh\")) if cf else tf.ones([batch_size,1])   \n",
    "        dh2 = opt.compute_gradients(tf.reduce_mean(tf.stop_gradient(f2-tf.tile(c2,[ns,1])*g2)*log_prob(_h2, sh2), 0)+\n",
    "                                    tf.reduce_mean(tf.stop_gradient(c2)*mg2, 0), get_weights(\"whh\", \"bhh\"))        \n",
    "        dh  = opt.compute_gradients(tf.reduce_mean(tf.stop_gradient(f-tf.tile(c,[ns,1])*g)*log_prob(_h, sh), 0)+\n",
    "                                    tf.reduce_mean(tf.stop_gradient(c)*mg, 0), get_weights(\"wxh\", \"bxh\"))\n",
    "    else:\n",
    "        dh2f, dh2g, dh2mg = [opt.compute_gradients(tf.reduce_mean(z, 0), get_weights(\"whh\", \"bhh\"))\n",
    "                             for z in [tf.stop_gradient(f2)*log_prob(_h2, sh2),\n",
    "                                       tf.stop_gradient(g2)*log_prob(_h2, sh2), mg2]]\n",
    "        dhf, dhg, dhmg = [opt.compute_gradients(tf.reduce_mean(z, 0), get_weights(\"wxh\", \"bxh\"))\n",
    "                          for z in [tf.stop_gradient(f)*log_prob(_h, sh),\n",
    "                                    tf.stop_gradient(g)*log_prob(_h, sh), mg]]        \n",
    "        b2 = bias_cor(f2, g2, _h2, sh2, nn, 2, get_weights(\"whh\", \"bhh\"), nh) if cf else [tf.zeros([nh,nh]), tf.zeros([1,nh])]\n",
    "        b = bias_cor(f, g, _h, sh, nn, 1, get_weights(\"wxh\", \"bxh\"), 392) if cf else [tf.zeros([392,nh]), tf.zeros([1,nh])]\n",
    "        \n",
    "        dh2 = [list(z) for z in dh2f]\n",
    "        dh = [list(z) for z in dhf]\n",
    "        for j in range(2):\n",
    "            dh2[j][0] = (dh2[j][0]/(dh2g[j][0]+eps)-b2[j])*dh2mg[j][0]\n",
    "            dh[j][0] = (dh[j][0]/(dhg[j][0]+eps)-b[j])*dhmg[j][0]\n",
    "\n",
    "    train_step = opt.apply_gradients(dy+dh2+dh if tr is None else dy+dh2+dh+tr)\n",
    "    return train_step, y_expect, nll, m, v\n",
    "\n",
    "def muProp(p, s, layer, w, cf, nn):\n",
    "    fh = det_pass(p, layer, ns**(layer-1), prob(y_expect, y_))\n",
    "    dfh = tf.gradients(fh, p)[0]\n",
    "    mg = tf.stop_gradient(dfh)*p\n",
    "    fh, dfh, p = [tf.tile(z, [ns,1]) for z in [fh, dfh, p]]\n",
    "    g = fh+tf.reduce_sum(dfh*(s-p), 1, keep_dims=True)\n",
    "    return g, mg\n",
    "\n",
    "def cv_coef(p, nn, layer, w):\n",
    "    p = tf.reshape(p, [ns**(layer-1), batch_size, nh])\n",
    "    for i in range(ns**(layer-1)):\n",
    "        pp = p[i]\n",
    "        ss = tf.stop_gradient(tf.reshape(Bernoulli(probs=pp, dtype=tf.float32).sample(nn), \n",
    "                                         [nn*batch_size, nh]))\n",
    "        sls, sls_expect = stc_pass(ss, layer, nn)\n",
    "        fh = det_pass(pp, layer, 1, sls_expect)\n",
    "        dfh = tf.gradients(fh, pp)[0]\n",
    "        _fh, _dfh, _p = [tf.tile(z, [nn,1]) for z in [fh, dfh, pp]]\n",
    "        f = tf.stop_gradient(sls)*log_prob(_p, ss)\n",
    "        g = tf.stop_gradient(_fh+tf.reduce_sum(_dfh*(ss-_p), 1, keep_dims=True))*log_prob(_p, ss)\n",
    "        _, _, cov, vg = fg_cov(f, g, w, nn)\n",
    "        t = tf.tile([[tf.reduce_sum(cov)/(tf.reduce_sum(vg)+eps)]],[batch_size,1])\n",
    "        coef = t if i==0 else tf.concat([coef, t], 0)\n",
    "    return coef\n",
    "\n",
    "def bias_cor(f, g, p, s, nn, layer, w, dim):\n",
    "    ff, gg = [tf.stop_gradient(z)*log_prob(s, p) for z in [f,g]]\n",
    "    _f, _g = [tf.reshape(z,[ns,ns**(layer-1)*batch_size,nh]) for z in [ff,gg]]\n",
    "    for i in range(ns):\n",
    "        df, dg = [tf.concat(tf.gradients(z[i], w), 0) for z in [_f, _g]]\n",
    "        mfg, mg = [df/(dg+eps), dg] if i==0 else [mfg+df/(dg+eps), mg+dg]\n",
    "        sfgg = df if i==0 else sfgg+df\n",
    "    mg /= ns\n",
    "    sfgg = (sfgg-mg*mfg)/(ns-1)\n",
    "    b = sfgg/(mg+eps)\n",
    "    return b[0:dim], b[dim]\n",
    "    \n",
    "\n",
    "def DARN(p, s, layer, w, cf, nn):\n",
    "    # only work for one layer\n",
    "    if layer==1:\n",
    "        return muProp(p, s, layer, w, cf, nn)\n",
    "    dh = tf.gradients(ls2, s)[0] \n",
    "    g = ls2 + dh*(.5-s)\n",
    "    return g, tf.zeros([1])\n",
    "\n",
    "def baseline(p, s, layer, w, cf, nn):\n",
    "    b = alpha*bsln + (1.0-alpha)*tf.reduce_mean(ls)\n",
    "    g = tf.stop_gradient(b)\n",
    "    return g, tf.zeros([1])\n",
    "\n",
    "def NVIL():\n",
    "    ch = add_layer(x, \"wh\", \"bh\", 392, 100, tf.tanh)\n",
    "    cy = add_layer(ch, \"wy\", \"by\", 100, 1)\n",
    "    b = alpha*bsln + tf.reduce_mean((1.0-alpha)*(loss-cy))\n",
    "    vv = tf.reduce_mean(tf.square(loss-cy-tf.reduce_mean(loss-cy)))/tf.maximum(1.0, (ns-1))\n",
    "    v = alpha*bslnv + (1.0-alpha)*vv\n",
    "    g = tf.stop_gradient((cy+b)/tf.maximum(1.0,tf.sqrt(v))) * p\n",
    "    f = tf.stop_gradient(loss/tf.maximum(1.0,tf.sqrt(v))) * p\n",
    "    tr = opt.compute_gradients(tf.reduce_mean(tf.square(tf.stop_gradient(loss-b)-cy)), \n",
    "                               [get_weights(\"wh\", \"bh\", 392, 100), get_weights(\"wy\", \"by\", 100, 1)])\n",
    "    return f, g, None, tr, b, v\n",
    "\n",
    "def ST_():\n",
    "    train_step = tf.train.AdamOptimizer(lr).minimize(nll)\n",
    "    return train_step, nll, tf.constant(0.), tf.constant(0.)"
   ]
  },
  {
   "cell_type": "code",
   "execution_count": 230,
   "metadata": {},
   "outputs": [],
   "source": [
    "def train(train_op):\n",
    "    with tf.Session() as sess:\n",
    "        bl = 0.\n",
    "        vr = 0.\n",
    "        loss_rec = np.empty((1000, steps/1000))\n",
    "        sess.run(tf.global_variables_initializer())\n",
    "\n",
    "        for i in range(steps):\n",
    "            batch_ = data.next_batch(batch_size, shuffle=True)[0]\n",
    "            batch_xs = batch_[:,0:392]\n",
    "            batch_ys = batch_[:,392:784]\n",
    "            \n",
    "            res = sess.run(train_op, {x: batch_xs, y_: batch_ys, bsln: bl, bslnv: vr})\n",
    "            bl = res[-2]\n",
    "            vr = res[-1]   \n",
    "            loss_rec[i%1000, i/1000] = res[-3]\n",
    "            if (i+1)%1000==0:\n",
    "                print (i+1)/1000, np.mean(loss_rec[:, i/1000], 0),\n",
    "                \n",
    "    return loss_rec, batch_xs, batch_ys, res[1]"
   ]
  },
  {
   "cell_type": "code",
   "execution_count": null,
   "metadata": {},
   "outputs": [],
   "source": [
    "train_op = gd_est(1, linear=False, cf=True, sta=False, nn=4)\n",
    "result = train(train_op)\n",
    "mpr_b = result[0]\n",
    "#np.save(\"dn_20_4.npy\", dn_20_4)"
   ]
  },
  {
   "cell_type": "code",
   "execution_count": 232,
   "metadata": {},
   "outputs": [
    {
     "data": {
      "image/png": "[encoded data removed]",
      "text/plain": [
       "<matplotlib.figure.Figure at 0x12b2fc550>"
      ]
     },
     "metadata": {},
     "output_type": "display_data"
    },
    {
     "name": "stdout",
     "output_type": "stream",
     "text": [
      "\n"
     ]
    }
   ],
   "source": [
    "plt.style.use('default')\n",
    "fig, ax = plt.subplots(1,1, figsize=(8,4))\n",
    "#plt.xlim(0, 50)\n",
    "plt.ylim(70,150)\n",
    "\n",
    "plot_banded_error(mpl, \"mpl\")\n",
    "plot_banded_error(mpr, \"mpr\")\n",
    "plot_banded_error(mpr_b, \"mpr\")\n",
    "\n",
    "fatlegend(ax)\n",
    "plt.ylabel(\"Negative Log-Likelihood\")\n",
    "plt.xlabel(\"Steps (x1e3)\")\n",
    "ax.grid(True)\n",
    "plt.show()\n",
    "#fig.savefig('foo.png')"
   ]
  },
  {
   "cell_type": "code",
   "execution_count": null,
   "metadata": {
    "collapsed": true
   },
   "outputs": [],
   "source": [
    "fig, ax = plt.subplots(1,2, figsize=(16,8))\n",
    "up = np.concatenate([j for j in [np.reshape(i,[14,28]) for i in result[2]]], 1)\n",
    "dw = np.concatenate([j for j in [np.reshape(i,[14,28]) for i in result[3]]], 1)\n",
    "p1 = np.concatenate(np.split(np.concatenate([up,dw], 0), batch_size/10, 1), 0)\n",
    "dwy = np.concatenate([j for j in [np.reshape(i,[14,28]) for i in result[4]]], 1)\n",
    "p2 = np.concatenate(np.split(np.concatenate([up,dwy], 0), batch_size/10, 1), 0)\n",
    "ax[0].imshow(p1, cmap=plt.cm.gray, interpolation='none')\n",
    "ax[1].imshow(p2, cmap=plt.cm.gray, interpolation='none')\n",
    "ax[0].grid(False)\n",
    "ax[1].grid(False)\n",
    "plt.show()"
   ]
  },
  {
   "cell_type": "code",
   "execution_count": null,
   "metadata": {
    "collapsed": true
   },
   "outputs": [],
   "source": [
    "def ratio_cv(p, s, layer, w, f, g, mg, nn, dim, cf):\n",
    "    _f, _g = [tf.reshape(z, [ns**layer,batch_size,1]) for z in [f,g]]\n",
    "    _p, _s, _mg = [tf.reshape(z, [ns**layer,batch_size,nh]) for z in [p, s, tf.tile(mg,[ns,1])]]\n",
    "    for i in range(ns**layer):\n",
    "        dhf, dhg, dhmg = [opt.compute_gradients(tf.reduce_mean(z, 0), w)\n",
    "                          for z in [tf.stop_gradient(_f[i])*log_prob(_p[i], _s[i]),\n",
    "                                    tf.stop_gradient(_g[i])*log_prob(_p[i], _s[i]), _mg[i]]]\n",
    "        t = [list(z) for z in dhf]\n",
    "        b = bias_cor(_p[i], nn, layer, w, dim) if cf else [tf.zeros([dim,nh]), tf.zeros([1,nh])]\n",
    "        for j in range(2):\n",
    "            t[j][0] = (t[j][0]/(dhg[j][0]+eps)-b[j])*dhmg[j][0]/(ns**layer)\n",
    "        if i==0:\n",
    "            dh = t\n",
    "        else:\n",
    "            dh[0][0] += t[0][0]\n",
    "            dh[1][0] += t[1][0]\n",
    "    return dh\n",
    "\n",
    "def bias_cor(p, nn, layer, w, dim):\n",
    "    ss = tf.stop_gradient(tf.reshape(Bernoulli(probs=p, dtype=tf.float32).sample(nn), \n",
    "                                     [nn*batch_size, nh]))\n",
    "    sls, sls_expect = stc_pass(ss, layer, nn)\n",
    "    fh = det_pass(p, layer, 1, sls_expect)\n",
    "    dfh = tf.gradients(fh, p)[0]\n",
    "    _fh, _dfh, _p = [tf.tile(z, [nn,1]) for z in [fh, dfh, p]]\n",
    "    f = tf.stop_gradient(sls)*log_prob(_p, ss)\n",
    "    g = tf.stop_gradient(_fh+tf.reduce_sum(_dfh*(ss-_p), 1, keep_dims=True))*log_prob(_p, ss)\n",
    "    \n",
    "    f, g = [tf.reshape(z, [nn,batch_size,nh]) for z in [f,g]]\n",
    "    for i in range(nn):\n",
    "        df, dg = [tf.concat(tf.gradients(tf.reduce_mean(z[i], 0), w), 0) for z in [f, g]]\n",
    "        mfg, mg = [df/dg, dg] if i==0 else [mfg+df/dg, mg+dg]\n",
    "        cov = df if i==0 else cov+df\n",
    "    b = tf.reduce_sum(cov-mfg*mg/nn)/(nn-1)/tf.reduce_sum(mg/nn)\n",
    "    return b, b"
   ]
  }
 ],
 "metadata": {
  "kernelspec": {
   "display_name": "Python 2",
   "language": "python",
   "name": "python2"
  },
  "language_info": {
   "codemirror_mode": {
    "name": "ipython",
    "version": 2
   },
   "file_extension": ".py",
   "mimetype": "text/x-python",
   "name": "python",
   "nbconvert_exporter": "python",
   "pygments_lexer": "ipython2",
   "version": "2.7.13"
  }
 },
 "nbformat": 4,
 "nbformat_minor": 2
}
