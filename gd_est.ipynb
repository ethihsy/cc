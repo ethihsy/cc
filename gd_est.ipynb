{
 "cells": [
  {
   "cell_type": "code",
   "execution_count": 1,
   "metadata": {},
   "outputs": [
    {
     "name": "stdout",
     "output_type": "stream",
     "text": [
      "Extracting MNIST_data/train-images-idx3-ubyte.gz\n",
      "Extracting MNIST_data/train-labels-idx1-ubyte.gz\n",
      "Extracting MNIST_data/t10k-images-idx3-ubyte.gz\n",
      "Extracting MNIST_data/t10k-labels-idx1-ubyte.gz\n"
     ]
    }
   ],
   "source": [
    "import numpy as np\n",
    "import tensorflow as tf\n",
    "import matplotlib.pyplot as plt\n",
    "from tensorflow.examples.tutorials.mnist import input_data\n",
    "\n",
    "Bernoulli = tf.contrib.distributions.Bernoulli\n",
    "st = tf.contrib.bayesflow.stochastic_tensor\n",
    "\n",
    "data = input_data.read_data_sets(\"MNIST_data/\", one_hot=True).test\n",
    "data.images[data.images>0.5] = 1.0\n",
    "data.images[data.images<=0.5] = 0.0"
   ]
  },
  {
   "cell_type": "code",
   "execution_count": 26,
   "metadata": {},
   "outputs": [],
   "source": [
    "batch_size = 40\n",
    "lr = 1e-3\n",
    "ns = 1\n",
    "eps = 1e-7\n",
    "\n",
    "ST = False\n",
    "bl = tf.constant(0.0)\n",
    "vr = tf.constant(0.0)"
   ]
  },
  {
   "cell_type": "code",
   "execution_count": 27,
   "metadata": {},
   "outputs": [],
   "source": [
    "def add_layer(inputs, wn, bn, in_dim, out_dim, af=None):\n",
    "    try:\n",
    "        w = tf.get_variable(wn, [in_dim, out_dim], initializer=tf.truncated_normal_initializer)\n",
    "        b = tf.get_variable(bn, [1, out_dim], initializer=tf.truncated_normal_initializer)\n",
    "    except:\n",
    "        with tf.variable_scope(tf.get_variable_scope(), reuse=True):\n",
    "            w = tf.get_variable(wn, [in_dim, out_dim], initializer=tf.truncated_normal_initializer)\n",
    "            b = tf.get_variable(bn, [1, out_dim], initializer=tf.truncated_normal_initializer)\n",
    "    if af is None:\n",
    "        return tf.matmul(inputs, w) + b\n",
    "    return af(tf.matmul(inputs, w) + b)\n",
    "\n",
    "def sample(h, dim, s=1):\n",
    "    ss = st.StochasticTensor(dist=Bernoulli(probs=h, dtype=tf.float32),\n",
    "                             dist_value_type=st.SampleValue(shape=s)).value()\n",
    "    ss = tf.reshape(ss, [ns*batch_size, dim])\n",
    "    return ss\n",
    "\n",
    "def plt_figure(loss, lb=0, hb=500):\n",
    "    plt.ylim(lb, hb)\n",
    "    plt.plot(loss)\n",
    "    plt.show()"
   ]
  },
  {
   "cell_type": "code",
   "execution_count": 28,
   "metadata": {},
   "outputs": [],
   "source": [
    "x = tf.placeholder(tf.float32, [None, 392])\n",
    "\n",
    "h1 = add_layer(x, \"wxh1\", \"bxh1\", 392, 200, tf.nn.sigmoid)\n",
    "h1 = tf.clip_by_value(h1, eps, 1.0-eps)\n",
    "\n",
    "if ST is False:\n",
    "    sh1 = tf.stop_gradient(sample(h1, 200, ns))\n",
    "else:\n",
    "    sh1 = tf.stop_gradient(sample(h1, 200, ns)-h1)+h1\n",
    "\n",
    "h2 = add_layer(sh1, \"wh1h2\", \"bh1h2\", 200, 200, tf.nn.sigmoid)\n",
    "h2 = tf.clip_by_value(h2, eps, 1.0-eps)\n",
    "\n",
    "if ST is False:\n",
    "    sh2 = tf.stop_gradient(sample(h2, 200))\n",
    "else:\n",
    "    sh2 = tf.stop_gradient(sample(h2, 200)-h2)+h2\n",
    "    \n",
    "y = add_layer(sh2, \"wh2y\", \"bh2y\", 200, 392, tf.nn.sigmoid)\n",
    "y_sum = tf.reduce_sum(tf.reshape(y, [ns, batch_size, 392]), 0)\n",
    "\n",
    "y_ = tf.placeholder(tf.float32, [None, 392])\n",
    "y_expect = tf.clip_by_value(y_*y_sum/ns + (1.0-y_)*(1.0-y_sum/ns), eps, 1.0-eps)\n",
    "loss_y = tf.reduce_mean(-tf.reduce_sum(tf.log(y_expect), 1))\n",
    "\n",
    "_y = tf.tile(y_, [ns,1])\n",
    "y = tf.clip_by_value(_y*y + (1.0-_y)*(1.0-y), eps, 1.0-eps)\n",
    "loss = -tf.reduce_sum(tf.log(y), 1, keep_dims=True)"
   ]
  },
  {
   "cell_type": "code",
   "execution_count": 29,
   "metadata": {
    "collapsed": true
   },
   "outputs": [],
   "source": [
    "def ST():\n",
    "    train_step = tf.train.AdamOptimizer(lr).minimize(loss_y)\n",
    "    return train_step, loss_y"
   ]
  },
  {
   "cell_type": "code",
   "execution_count": 30,
   "metadata": {},
   "outputs": [],
   "source": [
    "def LR():\n",
    "    loss_h2 = tf.reduce_mean(tf.reduce_sum(\n",
    "                            tf.stop_gradient(loss) * tf.log(sh2*h2+(1.0-sh2)*(1.0-h2)), 1))\n",
    "    loss_h1 = tf.reduce_mean(tf.reduce_sum(\n",
    "                            tf.stop_gradient(loss) * tf.log(sh1*tf.tile(h1,[ns,1])+(1.0-sh1)*(1.0-tf.tile(h1,[ns,1]))), 1))\n",
    "    \n",
    "    train_step = tf.train.AdamOptimizer(lr).minimize(loss_y+loss_h2+loss_h1)\n",
    "    return train_step, loss_y"
   ]
  },
  {
   "cell_type": "code",
   "execution_count": 31,
   "metadata": {},
   "outputs": [],
   "source": [
    "def muProp():\n",
    "    ch1 = add_layer(h1, \"wh1h2\", \"bh1h2\", 200, 200, tf.nn.sigmoid)\n",
    "    ch1 = add_layer(ch1, \"wh2y\", \"bh2y\", 200, 392, tf.nn.sigmoid)\n",
    "    ch1 = tf.clip_by_value(y_*ch1+(1.0-y_)*(1.0-ch1), eps, 1.0-eps)\n",
    "    loss_ch1 = -tf.reduce_sum(tf.log(ch1), 1, keep_dims=True)\n",
    "    dch1 = tf.gradients(loss_ch1, h1)[0]\n",
    "    \n",
    "    ch2 = add_layer(h2, \"wh2y\", \"bh2y\", 200, 392, tf.nn.sigmoid)\n",
    "    ch2 = tf.clip_by_value(y_*ch2+(1.0-y_)*(1.0-ch2), eps, 1.0-eps)\n",
    "    loss_ch2 = -tf.reduce_sum(tf.log(ch2), 1, keep_dims=True)\n",
    "    dch2 = tf.gradients(loss_ch2, h2)[0]\n",
    "    \n",
    "    loss_h2 = tf.reduce_mean(tf.reduce_sum(\n",
    "                            tf.stop_gradient((loss-loss_ch2-tf.reduce_sum(dch2*(sh2-h2), 1, keep_dims=True))) *\n",
    "                            tf.log(sh2*h2+(1.0-sh2)*(1.0-h2)) +\n",
    "                            tf.stop_gradient(dch2)*h2, 1))\n",
    "    \n",
    "    loss_h1 = tf.reduce_mean(tf.reduce_sum(\n",
    "                            tf.stop_gradient((loss-loss_ch1-tf.reduce_sum(dch1*(sh1-h1), 1, keep_dims=True))) *\n",
    "                            tf.log(sh1*h1+(1.0-sh1)*(1.0-h1)) +\n",
    "                            tf.stop_gradient(dch1)*h1, 1))\n",
    "    \n",
    "    train_step = tf.train.AdamOptimizer(lr).minimize(loss_y+loss_h2+loss_h1)    \n",
    "    return train_step, loss_y"
   ]
  },
  {
   "cell_type": "code",
   "execution_count": 32,
   "metadata": {},
   "outputs": [],
   "source": [
    "def NVIL():\n",
    "    alpha = 0.9\n",
    "    _bl = alpha*bl + (1.0-alpha)*loss\n",
    "    _vr = alpha*vr + (1.0-alpha)*tf.square(loss-_bl)\n",
    "    \n",
    "    ch = add_layer(x, \"wh\", \"bh\", 392, 100, tf.tanh)\n",
    "    cy = add_layer(ch, \"wy\", \"by\", 100, 1)\n",
    "    cy = tf.clip_by_value(cy, eps, 1.0-eps)\n",
    "    loss_c = tf.reduce_mean(tf.square(tf.stop_gradient(loss-_bl)-cy))\n",
    "\n",
    "    loss_h2 = tf.reduce_mean(tf.reduce_sum(\n",
    "                            tf.stop_gradient((loss-_bl-cy)/tf.maximum(1.0,tf.sqrt(_vr))) * \n",
    "                            tf.log(sh2*h2+(1.0-sh2)*(1.0-h2)), 1))\n",
    "    loss_h1 = tf.reduce_mean(tf.reduce_sum(\n",
    "                            tf.stop_gradient((loss-_bl-cy)/tf.maximum(1.0,tf.sqrt(_vr))) * \n",
    "                            tf.log(sh1*h1+(1.0-sh1)*(1.0-h1)), 1))\n",
    "    \n",
    "    train_step = tf.train.AdamOptimizer(lr).minimize(loss_y+loss_h2+loss_h1+loss_c)\n",
    "    \n",
    "    return train_step, loss_y, tf.reduce_mean(_bl), tf.reduce_mean(_vr)"
   ]
  },
  {
   "cell_type": "code",
   "execution_count": 33,
   "metadata": {},
   "outputs": [
    {
     "name": "stdout",
     "output_type": "stream",
     "text": [
      "0 1441.7 1 172.621 2 110.035 3 106.122 4 108.759 5 98.8352 6 89.9071 7 93.5319 8 94.0337 9 92.3278 10 83.7501 11 99.4171 12 93.0451 13 89.1183 14 83.9604 15 87.4118 16 92.6712 17 81.2591 18 83.3674 19 82.6973 20 87.702 21 87.2039 22 84.1058 23 82.8679 24 79.4425 25 75.6714 26 81.8864 27 85.366 28 84.4902 29 84.8911 30 75.206 31 96.0921 32 81.1166 33 87.6901 34 86.069 35 83.9799 36 84.4258 37 81.723 38 78.4654 39 79.0648 40 83.0674 41 93.05 42 78.0411 43 87.6206 44 89.0242 45 86.6339 46 76.5906 47 83.0875 48 75.9052 49 81.4729\n"
     ]
    }
   ],
   "source": [
    "with tf.Session() as sess:\n",
    "#    train_op = ST()\n",
    "#    train_op = LR()\n",
    "    train_op = muProp()\n",
    "#    train_op = NVIL()\n",
    "\n",
    "    ll = []\n",
    "    bll = 0.0\n",
    "    vrr= 0.0 \n",
    "    sess.run(tf.global_variables_initializer())\n",
    "\n",
    "    for i in range(50000):\n",
    "        batch_ = data.next_batch(batch_size)[0]\n",
    "        batch_xs = batch_[:,0:392]\n",
    "        batch_ys = batch_[:,392:784]\n",
    "\n",
    "        res = sess.run(train_op, {x: batch_xs, y_: batch_ys, bl: bll, vr: vrr})\n",
    "\n",
    "        bll = res[-2]\n",
    "        vrr = res[-1]\n",
    "\n",
    "        if i%1000==0:\n",
    "            ll.append(res[1])\n",
    "            print i/1000, res[1],\n"
   ]
  },
  {
   "cell_type": "code",
   "execution_count": 34,
   "metadata": {},
   "outputs": [
    {
     "data": {
      "image/png": "[encoded data removed]",
      "text/plain": [
       "<matplotlib.figure.Figure at 0x119afdb50>"
      ]
     },
     "metadata": {},
     "output_type": "display_data"
    }
   ],
   "source": [
    "mpp = ll\n",
    "px = np.linspace(1, 50, 50)\n",
    "plt.ylim(55, 120)\n",
    "plt.plot(px, mp, px, mpp)\n",
    "plt.show()"
   ]
  },
  {
   "cell_type": "code",
   "execution_count": null,
   "metadata": {
    "collapsed": true
   },
   "outputs": [],
   "source": []
  }
 ],
 "metadata": {
  "kernelspec": {
   "display_name": "Python 2",
   "language": "python",
   "name": "python2"
  },
  "language_info": {
   "codemirror_mode": {
    "name": "ipython",
    "version": 2
   },
   "file_extension": ".py",
   "mimetype": "text/x-python",
   "name": "python",
   "nbconvert_exporter": "python",
   "pygments_lexer": "ipython2",
   "version": "2.7.13"
  }
 },
 "nbformat": 4,
 "nbformat_minor": 2
}
