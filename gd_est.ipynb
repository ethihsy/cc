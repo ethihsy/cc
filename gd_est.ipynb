{
 "cells": [
  {
   "cell_type": "code",
   "execution_count": 151,
   "metadata": {
    "collapsed": true
   },
   "outputs": [],
   "source": [
    "import numpy as np\n",
    "import tensorflow as tf\n",
    "import matplotlib.pyplot as plt\n",
    "from tensorflow.examples.tutorials.mnist import input_data\n",
    "Bernoulli = tf.contrib.distributions.Bernoulli"
   ]
  },
  {
   "cell_type": "markdown",
   "metadata": {},
   "source": [
    "### Utilitiy functions"
   ]
  },
  {
   "cell_type": "code",
   "execution_count": 152,
   "metadata": {
    "collapsed": true
   },
   "outputs": [],
   "source": [
    "def plot_banded_error(errs, label, ax=None):\n",
    "    ax = ax or plt\n",
    "    m = np.mean(errs, axis=0)\n",
    "    s = np.std(errs, axis=0)\n",
    "    line, = ax.plot(np.arange(1, len(m)+1), m, '.-', label=label)\n",
    "\n",
    "def fatlegend(ax, *a, **kw):\n",
    "    leg = ax.legend(*a, **kw)\n",
    "    for l in leg.legendHandles:\n",
    "        l.set_linewidth(l.get_linewidth()*2.0)\n",
    "    return leg\n",
    "\n",
    "def add_layer(inputs, wn, bn, in_dim, out_dim, af=None):\n",
    "    try:\n",
    "        w = tf.get_variable(wn, [in_dim, out_dim], initializer=tf.truncated_normal_initializer)\n",
    "        b = tf.get_variable(bn, [1, out_dim], initializer=tf.truncated_normal_initializer)\n",
    "    except:\n",
    "        with tf.variable_scope(tf.get_variable_scope(), reuse=True):\n",
    "            w = tf.get_variable(wn)\n",
    "            b = tf.get_variable(bn)\n",
    "    if af is None:\n",
    "        return tf.matmul(inputs, w) + b\n",
    "    return af(tf.matmul(inputs, w) + b)\n",
    "\n",
    "def get_weights(wn, bn):\n",
    "    with tf.variable_scope(tf.get_variable_scope(), reuse=True):\n",
    "        w = tf.get_variable(wn)\n",
    "        b = tf.get_variable(bn)\n",
    "    return [w,b]\n",
    "\n",
    "def log_prob(p, s):\n",
    "    return tf.log(tf.clip_by_value(s*p+(1.0-s)*(1.0-p), eps, 1-eps))\n",
    "\n",
    "def det_pass(inputs, layer, n=1):\n",
    "    if layer==1:\n",
    "        z = add_layer(inputs, \"whh\", \"bhh\", nh, nh, tf.nn.sigmoid)\n",
    "        inputs = z\n",
    "    z = add_layer(inputs, \"why\", \"bhy\", nh, 392, tf.nn.sigmoid)\n",
    "    z = z*tf.tile(y_,[n,1])+(1-z)*(1-tf.tile(y_,[n,1]))\n",
    "    return tf.reduce_sum(z/tf.tile(-y_expect-eps, [n,1]), 1, keep_dims=True)"
   ]
  },
  {
   "cell_type": "markdown",
   "metadata": {},
   "source": [
    "### Parameters"
   ]
  },
  {
   "cell_type": "code",
   "execution_count": 153,
   "metadata": {
    "collapsed": true
   },
   "outputs": [],
   "source": [
    "batch_size = 10\n",
    "ns = 2\n",
    "lr = 1e-3\n",
    "eps = 1e-7\n",
    "alpha = 0.9\n",
    "steps = 50000\n",
    "nh = 100"
   ]
  },
  {
   "cell_type": "markdown",
   "metadata": {},
   "source": [
    "### Sigmoid belief networks"
   ]
  },
  {
   "cell_type": "code",
   "execution_count": 154,
   "metadata": {
    "collapsed": true
   },
   "outputs": [],
   "source": [
    "x = tf.placeholder(tf.float32, [None, 392])\n",
    "h = add_layer(x, \"wxh\", \"bxh\", 392, nh, tf.nn.sigmoid)\n",
    "sh = tf.stop_gradient(tf.reshape(Bernoulli(probs=h, dtype=tf.float32).sample(ns), [ns*batch_size, nh]))\n",
    "h2 = add_layer(sh, \"whh\", \"bhh\", nh, nh, tf.nn.sigmoid)\n",
    "sh2 = tf.stop_gradient(tf.reshape(Bernoulli(probs=h2, dtype=tf.float32).sample(ns), [ns*ns*batch_size, nh]))\n",
    "y = add_layer(sh2, \"why\", \"bhy\", nh, 392, tf.nn.sigmoid)\n",
    "y_ = tf.placeholder(tf.float32, [None, 392])\n",
    "\n",
    "yy = y*tf.tile(y_,[ns**2,1])+(1-y)*(1-tf.tile(y_,[ns**2,1]))\n",
    "y_expect = tf.reduce_mean(tf.reshape(yy, [ns**2, batch_size, 392]), 0)\n",
    "\n",
    "nll = tf.reduce_mean(tf.reduce_sum(-tf.log(tf.clip_by_value(y_expect, eps, 1-eps)), 1))\n",
    "ls = tf.reduce_sum(yy/tf.tile(-y_expect-eps, [ns**2,1]), 1, keep_dims=True)\n",
    "\n",
    "#saver = tf.train.Saver()"
   ]
  },
  {
   "cell_type": "markdown",
   "metadata": {},
   "source": [
    "### Gradient estimators"
   ]
  },
  {
   "cell_type": "code",
   "execution_count": 187,
   "metadata": {},
   "outputs": [],
   "source": [
    "bsln = tf.placeholder(tf.float32)\n",
    "bslnv = tf.placeholder(tf.float32)\n",
    "opt = tf.train.AdamOptimizer(lr)\n",
    "\n",
    "def gd_est(md, linear, cf, sta, nn):\n",
    "    func = {\n",
    "        0: LR,\n",
    "        1: muProp,\n",
    "        2: DARN,\n",
    "        3: baseline,\n",
    "        4: NVIL\n",
    "    }\n",
    "    g, mg = func.get(md)(h, sh, 1, get_weights(\"wxh\", \"bxh\"), cf, nn)\n",
    "    g2, mg2 = func.get(md)(h2, sh2, 2, get_weights(\"whh\", \"bhh\"), cf, nn)\n",
    "    f = tf.reduce_mean(tf.reshape(ls, [ns,ns*batch_size,1]), 0)\n",
    "    f2 = ls\n",
    "    m = v = tf.constant(0.)\n",
    "    tr = None\n",
    "    \n",
    "    dy = opt.compute_gradients(nll, get_weights(\"why\", \"bhy\"))    \n",
    "    if linear:        \n",
    "        dh2 = opt.compute_gradients(tf.reduce_mean(tf.stop_gradient(f2-g2)*log_prob(tf.tile(h2, [ns,1]), sh2)+mg2, 0),\n",
    "                                    get_weights(\"whh\", \"bhh\"))        \n",
    "        dh  = opt.compute_gradients(tf.reduce_mean(tf.stop_gradient(f-g)*log_prob(tf.tile(h, [ns,1]), sh)+mg, 0),\n",
    "                                    get_weights(\"wxh\", \"bxh\"))\n",
    "    else:\n",
    "        dh2 = opt.compute_gradients(tf.reduce_mean(tf.stop_gradient(f2/g2)*tf.tile(mg2,[ns,1]), 0), \n",
    "                                    get_weights(\"whh\", \"bhh\"))        \n",
    "        dh = opt.compute_gradients(tf.reduce_mean(tf.stop_gradient(f/g)*tf.tile(mg,[ns,1]), 0), \n",
    "                                   get_weights(\"wxh\", \"bxh\"))\n",
    "    train_step = opt.apply_gradients(dy+dh2+dh if tr is None else dy+dh2+dh+tr)\n",
    "\n",
    "    if sta:\n",
    "        fp2, gp2 = [tf.stop_gradient(z)*log_prob(tf.tile(h2, [ns,1]), sh2) for z in [f2, g2]]\n",
    "        fp, gp = [tf.stop_gradient(z)*log_prob(tf.tile(h, [ns,1]), sh) for z in [f, g]]\n",
    "        stats1 = gd_stats(h2, sh2, fp2, gp2, mg2, dh2, get_weights(\"whh\", \"bhh\"))\n",
    "        stats2 = gd_stats(h, sh, fp, gp, mg, dh, get_weights(\"wxh\", \"bxh\"))\n",
    "        return (stats1,stats2), train_step, y_expect, nll, m, v\n",
    "\n",
    "    return train_step, y_expect, nll, m, v\n",
    "\n",
    "def LR(p, s, layer, w, cf, nn):\n",
    "    return tf.zeros([ns**layer*batch_size,1]), tf.zeros([ns**layer*batch_size,1])\n",
    "    \n",
    "def muProp(p, s, layer, w, cf, nn):\n",
    "    fh = det_pass(p, layer, ns**(layer-1))\n",
    "    dfh = tf.gradients(fh, p)[0]\n",
    "    if layer==2:\n",
    "        _fh = tf.reshape(fh, [ns,batch_size,1])\n",
    "        _dfh, _p = [tf.reshape(z, [ns,batch_size,nh]) for z in [dfh, p]]\n",
    "        for i in range(ns):\n",
    "            _coef = [[cv_coef(_fh[i], _dfh[i], _p[i], nn, layer, w, cf)]]\n",
    "            coef = tf.tile(_coef, [batch_size,1]) if i==0 else tf.concat([coef, tf.tile(_coef,[batch_size,1])], 0)\n",
    "        coef = tf.tile(coef, [ns,1])\n",
    "    else:\n",
    "        coef = cv_coef(fh, dfh, p, nn, layer, w, cf)\n",
    "    fh, dfh, p = [tf.tile(z, [ns,1]) for z in [fh, dfh, p]]\n",
    "    g = fh+tf.reduce_sum(dfh*(s-p), 1, keep_dims=True)\n",
    "    mg = tf.stop_gradient(dfh)*p\n",
    "    return coef*g, coef*mg\n",
    "\n",
    "def cv_coef(fh, dfh, p, nn, layer, w, cf):\n",
    "    if not cf:\n",
    "        return 1.\n",
    "    ss = tf.stop_gradient(tf.reshape(Bernoulli(probs=p, dtype=tf.float32).sample(nn), \n",
    "                                     [nn*batch_size, nh]))\n",
    "    sfh = det_pass(ss, layer, nn)\n",
    "    fh, dfh, hh = [tf.tile(z, [nn,1]) for z in [fh, dfh, p]]\n",
    "    f = tf.stop_gradient(sfh)*log_prob(hh, ss)\n",
    "    g = tf.stop_gradient(fh+tf.reduce_sum(dfh*(ss-hh), 1, keep_dims=True))*log_prob(hh, ss)\n",
    "\n",
    "    mf, mg = [tf.concat(tf.gradients(tf.reduce_mean(z, 0), w),0) for z in [f,g]]\n",
    "    f, g = [tf.reshape(z, [nn,batch_size,nh]) for z in [f,g]]\n",
    "    for i in range(nn):\n",
    "        df, dg = [tf.concat(tf.gradients(tf.reduce_mean(z[i], 0), w), 0) for z in [f, g]]\n",
    "        vg = tf.square(dg-mg) if i==0 else vg+tf.square(dg-mg)\n",
    "        cov = (df-mf)*(dg-mg) if i==0 else cov+(df-mf)*(dg-mg)\n",
    "    return tf.reduce_sum(cov)/tf.reduce_sum(vg)\n",
    "\n",
    "def gd_stats(p, s, f, g, mg, dh, w):\n",
    "    mdf, mdg = [tf.concat(tf.gradients(tf.reduce_mean(z,0), w), 0) for z in [f, g]]\n",
    "    mgd = tf.concat([dh[0][0], dh[1][0]], 0)\n",
    "    \n",
    "    f, g, s = [tf.reshape(z, [ns, batch_size, nh]) for z in [f, g, s]]\n",
    "    for i in range(ns):\n",
    "        df, dg = [tf.concat(tf.gradients(tf.reduce_mean(z, 0), w), 0) for z in [f[i], g[i]]]\n",
    "        vf = tf.square(df-mdf) if i==0 else vf+tf.square(df-mdf)\n",
    "        vg = tf.square(dg-mdg) if i==0 else vg+tf.square(dg-mdg)        \n",
    "        cov = (df-mdf)*(dg-mdg) if i==0 else cov+(df-mdf)*(dg-mdg)\n",
    "        gd = tf.concat(tf.gradients(tf.reduce_mean(f[i]-g[i]+mg, 0), w), 0)\n",
    "        vgd = tf.square(gd-mgd) if i==0 else vgd+tf.square(gd-mgd)    \n",
    "    vf, vg, cov, vgd = [tf.reduce_sum(z)/(ns-1) for z in [vf, vg, cov, vgd]]\n",
    "    return vf+vg-2*cov, vgd\n",
    "\n",
    "def DARN(p, s, layer, w, cf, nn):\n",
    "    t = det_pass(s, layer, ns) if layer==1 else ls\n",
    "    dh = tf.gradients(t, s)[0]\n",
    "    g = t + tf.reduce_sum(dh*(tf.tile(p,[ns,1])-s), 1, keep_dims=True)\n",
    "    return g, tf.zeros([1])\n",
    "\n",
    "def baseline():\n",
    "    b = alpha*bsln + (1.0-alpha)*tf.reduce_mean(ls)\n",
    "    g = tf.stop_gradient(b) * p\n",
    "    f = tf.stop_gradient(loss) * p\n",
    "    return f, g, tf.constant(0.), b, tf.constant(0.), None\n",
    "\n",
    "def NVIL():\n",
    "    ch = add_layer(x, \"wh\", \"bh\", 392, 100, tf.tanh)\n",
    "    cy = add_layer(ch, \"wy\", \"by\", 100, 1)\n",
    "    b = alpha*bsln + tf.reduce_mean((1.0-alpha)*(loss-cy))\n",
    "    vv = tf.reduce_mean(tf.square(loss-cy-tf.reduce_mean(loss-cy)))/tf.maximum(1.0, (ns-1))\n",
    "    v = alpha*bslnv + (1.0-alpha)*vv\n",
    "    g = tf.stop_gradient((cy+b)/tf.maximum(1.0,tf.sqrt(v))) * p\n",
    "    f = tf.stop_gradient(loss/tf.maximum(1.0,tf.sqrt(v))) * p\n",
    "    tr = opt.compute_gradients(tf.reduce_mean(tf.square(tf.stop_gradient(loss-b)-cy)), \n",
    "                               [get_weights(\"wh\", \"bh\", 392, 100), get_weights(\"wy\", \"by\", 100, 1)])\n",
    "    return f, g, None, tr, b, v\n",
    "\n",
    "def ST_():\n",
    "    train_step = tf.train.AdamOptimizer(lr).minimize(nll)\n",
    "    return train_step, nll, tf.constant(0.), tf.constant(0.)"
   ]
  },
  {
   "cell_type": "code",
   "execution_count": 188,
   "metadata": {
    "collapsed": true
   },
   "outputs": [],
   "source": [
    "def train(train_op):\n",
    "    with tf.Session() as sess:\n",
    "        data = input_data.read_data_sets(\"MNIST_data/\", one_hot=True).test\n",
    "        data.images[data.images>0.5] = 1.0\n",
    "        data.images[data.images<=0.5] = 0.0\n",
    "        bl = 0.\n",
    "        vr = 0.\n",
    "        ll = np.empty((1000, steps/1000))\n",
    "        vv = np.empty((1000, steps/1000))\n",
    "        sess.run(tf.global_variables_initializer())\n",
    "\n",
    "        for i in range(steps):\n",
    "            batch_ = data.next_batch(batch_size, shuffle=False)[0]\n",
    "            batch_xs = batch_[:,0:392]\n",
    "            batch_ys = batch_[:,392:784]\n",
    "\n",
    "            res = sess.run(train_op, {x: batch_xs, y_: batch_ys, bsln: bl, bslnv: vr})\n",
    "            bl = res[-2]\n",
    "            vr = res[-1]   \n",
    "            ll[i%1000, i/1000] = res[-3]\n",
    "#            vv[i%1000, i/1000] = res[-4]\n",
    "            if (i+1)%1000==0:\n",
    "                print (i+1)/1000, np.mean(ll[:, i/1000], 0),\n",
    "#                print np.mean(vv[:, i/1000], 0),                \n",
    "\n",
    "#        save_path = saver.save(sess, \"model/model.ckpt\")\n",
    "    return ll, vv, batch_xs, batch_ys, res[1]"
   ]
  },
  {
   "cell_type": "code",
   "execution_count": 189,
   "metadata": {},
   "outputs": [
    {
     "name": "stdout",
     "output_type": "stream",
     "text": [
      "Extracting MNIST_data/train-images-idx3-ubyte.gz\n",
      "Extracting MNIST_data/train-labels-idx1-ubyte.gz\n",
      "Extracting MNIST_data/t10k-images-idx3-ubyte.gz\n",
      "Extracting MNIST_data/t10k-labels-idx1-ubyte.gz\n",
      "1 206.379825912 2 137.748428596 3 127.497365204 4 120.211767693 5 114.250564377 6 110.383483353 7 106.769312485 8 104.281409317 9 102.270064087 10 100.376161446 11 98.4750203705 12 96.9232548218 13 95.5558285446 14 94.5135129242 15 93.6667353401 16 92.8726400604 17 92.5320986824 18 92.6182987137 19 92.2938275795 20 92.053850769 21 92.6480461426 22 93.4927505188 23 93.4687468109 24 93.7581847038 25 94.1427527542 26 94.5472247467 27 94.3080910873 28 93.5567861481 29 95.5157224808 30 96.5047737427 31 97.4024124985 32 96.7358236618 33 96.4182932739 34 96.074343895 35 96.0011525803 36 96.0108103256 37 96.1260022202 38 95.8547216721 39 95.4836984787 40 94.9733723373 41 94.4177546692 42 94.1375555649 43 93.7901559372 44 93.2025255661 45 92.9265607071 46 93.1645328369 47 92.7938714218 48 92.2119781952 49 92.2666264267 50 92.3467449265\n"
     ]
    }
   ],
   "source": [
    "train_op = gd_est(2, linear=True, cf=False, sta=False, nn=5)\n",
    "result = train(train_op)\n",
    "dn_10_2 = result[0]"
   ]
  },
  {
   "cell_type": "code",
   "execution_count": 190,
   "metadata": {},
   "outputs": [
    {
     "data": {
      "image/png": "[encoded data removed]",
      "text/plain": [
       "<matplotlib.figure.Figure at 0x16e9eb690>"
      ]
     },
     "metadata": {},
     "output_type": "display_data"
    }
   ],
   "source": [
    "plt.style.use('default')\n",
    "fig, ax = plt.subplots(1,1, figsize=(8,4))\n",
    "plt.xlim(0, 50)\n",
    "plt.ylim(70,100)\n",
    "\n",
    "plot_banded_error(lhr_10_2, \"lhr_10_4\")\n",
    "plot_banded_error(mpl_10_2, \"mpl_10_2\")\n",
    "plot_banded_error(mpl_10_2_beta, \"mpl_10_2_beta\")\n",
    "plot_banded_error(dn_10_2, \"dn_10_2\")\n",
    "#plot_banded_error(mpr_10_2, \"mpr_10_2\")\n",
    "\n",
    "\n",
    "fatlegend(ax)\n",
    "plt.ylabel(\"Negative Log-Likelihood\")\n",
    "plt.xlabel(\"Steps (x1e3)\")\n",
    "ax.grid(True)\n",
    "plt.show()\n",
    "#fig.savefig('foo.png')"
   ]
  },
  {
   "cell_type": "code",
   "execution_count": null,
   "metadata": {
    "collapsed": true,
    "scrolled": true
   },
   "outputs": [],
   "source": [
    "fig, ax = plt.subplots(1,2, figsize=(16,8))\n",
    "up = np.concatenate([j for j in [np.reshape(i,[14,28]) for i in result[1]]], 1)\n",
    "dw = np.concatenate([j for j in [np.reshape(i,[14,28]) for i in result[2]]], 1)\n",
    "p1 = np.concatenate(np.split(np.concatenate([up,dw], 0), batch_size/10, 1), 0)\n",
    "dwy = np.concatenate([j for j in [np.reshape(i,[14,28]) for i in result[3]]], 1)\n",
    "p2 = np.concatenate(np.split(np.concatenate([up,dwy], 0), batch_size/10, 1), 0)\n",
    "ax[0].imshow(p1, cmap=plt.cm.gray, interpolation='none')\n",
    "ax[1].imshow(p2, cmap=plt.cm.gray, interpolation='none')\n",
    "ax[0].grid(False)\n",
    "ax[1].grid(False)\n",
    "plt.show()"
   ]
  }
 ],
 "metadata": {
  "kernelspec": {
   "display_name": "Python 2",
   "language": "python",
   "name": "python2"
  },
  "language_info": {
   "codemirror_mode": {
    "name": "ipython",
    "version": 2
   },
   "file_extension": ".py",
   "mimetype": "text/x-python",
   "name": "python",
   "nbconvert_exporter": "python",
   "pygments_lexer": "ipython2",
   "version": "2.7.13"
  }
 },
 "nbformat": 4,
 "nbformat_minor": 2
}
