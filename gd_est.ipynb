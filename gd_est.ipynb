{
 "cells": [
  {
   "cell_type": "code",
   "execution_count": 1,
   "metadata": {
    "scrolled": true
   },
   "outputs": [
    {
     "name": "stdout",
     "output_type": "stream",
     "text": [
      "Extracting MNIST_data/train-images-idx3-ubyte.gz\n",
      "Extracting MNIST_data/train-labels-idx1-ubyte.gz\n",
      "Extracting MNIST_data/t10k-images-idx3-ubyte.gz\n",
      "Extracting MNIST_data/t10k-labels-idx1-ubyte.gz\n"
     ]
    }
   ],
   "source": [
    "import numpy as np\n",
    "import time\n",
    "import tensorflow as tf\n",
    "import matplotlib.pyplot as plt\n",
    "from tensorflow.examples.tutorials.mnist import input_data\n",
    "Bernoulli = tf.contrib.distributions.Bernoulli\n",
    "\n",
    "data = input_data.read_data_sets(\"MNIST_data/\", one_hot=True).test\n",
    "data.images[data.images>0.5] = 1.0\n",
    "data.images[data.images<=0.5] = 0.0\n",
    "#data.images[:,0:392] = (data.images[:,0:392]-.5)*2"
   ]
  },
  {
   "cell_type": "code",
   "execution_count": 2,
   "metadata": {
    "collapsed": true
   },
   "outputs": [],
   "source": [
    "for i in range(14):\n",
    "    for j in range(14):\n",
    "        data.images[:,i*14+j] = data.images[:,56*i+2*j] "
   ]
  },
  {
   "cell_type": "code",
   "execution_count": 3,
   "metadata": {
    "collapsed": true
   },
   "outputs": [],
   "source": [
    "def plot_banded_error(errs, label, ax=None):\n",
    "    ax = ax or plt\n",
    "    m = np.mean(errs, axis=0)\n",
    "#    m = np.mean(np.reshape(m,[-1,10]),1)\n",
    "    s = np.std(errs, axis=0)\n",
    "    line, = ax.plot(np.arange(1, len(m)+1), m, label=label, linewidth=3)\n",
    "#    ax.fill_between(np.arange(1, len(m)+1), m-s, m+s, color=line.get_color(), alpha=0.075)\n",
    "\n",
    "def fatlegend(ax, *a, **kw):\n",
    "    leg = ax.legend(*a, **kw)\n",
    "    for l in leg.legendHandles:\n",
    "        l.set_linewidth(l.get_linewidth()*2.0)\n",
    "    return leg\n",
    "\n",
    "def jacobian(y_flat, x):\n",
    "    n = y_flat.shape[0]\n",
    "    loop_vars = [\n",
    "        tf.constant(0, tf.int32),\n",
    "        tf.TensorArray(tf.float32, size=n),\n",
    "    ]\n",
    "    _, jacobian = tf.while_loop(\n",
    "        lambda j, _: j < n,\n",
    "        lambda j, result: (j+1, result.write(j, tf.gradients(y_flat[j], x))),\n",
    "        loop_vars)\n",
    "    return tf.squeeze(jacobian.stack())"
   ]
  },
  {
   "cell_type": "markdown",
   "metadata": {},
   "source": [
    "### Graph"
   ]
  },
  {
   "cell_type": "code",
   "execution_count": 4,
   "metadata": {
    "collapsed": true,
    "scrolled": false
   },
   "outputs": [],
   "source": [
    "def get_weights(wn):\n",
    "    with tf.variable_scope(tf.get_variable_scope(), reuse=True):\n",
    "        return tf.get_variable(wn)\n",
    "\n",
    "def add_layer(inputs, wn, in_dim, out_dim, af=None):\n",
    "    try:\n",
    "        w = tf.get_variable(wn, [out_dim, in_dim+1], initializer=tf.truncated_normal_initializer)\n",
    "    except:\n",
    "        with tf.variable_scope(tf.get_variable_scope(), reuse=True):\n",
    "            w = tf.get_variable(wn)\n",
    "    inputs = tf.concat([inputs, tf.ones([tf.shape(inputs)[0],1])], 1)\n",
    "    ww = tf.transpose(w)\n",
    "    return tf.matmul(inputs, ww) if af is None else af(tf.matmul(inputs, ww))\n",
    "\n",
    "\n",
    "likelihood_ratio = lambda f, p, s, w: opt.compute_gradients(tf.reduce_mean(\n",
    "                                          tf.stop_gradient(f)*log_prob(p,s), 0), w)\n",
    "prob = lambda p, s: tf.pow(p+eps,s)*tf.pow(1-p+eps,1-s)\n",
    "log_prob = lambda p, s: tf.log(prob(p,s))\n",
    "\n",
    "ts = tf.placeholder(tf.float32)\n",
    "tau = tf.placeholder(tf.float32)\n",
    "\n",
    "eps = 1e-7\n",
    "#dim = 392\n",
    "dim = 98\n",
    "nn = 50\n",
    "batch = 24\n",
    "ns = 1\n",
    "\n",
    "y_ = tf.placeholder(tf.float32, [batch, dim])\n",
    "x = tf.placeholder(tf.float32, [batch, dim])\n",
    "\n",
    "h = add_layer(x, \"wxh\", dim, nn, tf.nn.sigmoid)\n",
    "sh = tf.stop_gradient(tf.reshape(Bernoulli(probs=h, dtype=tf.float32).sample(ns),[-1,nn]))\n",
    "h2 = add_layer(sh, \"whh\", nn, nn, tf.nn.sigmoid)\n",
    "sh2 = tf.stop_gradient(tf.reshape(Bernoulli(probs=h2, dtype=tf.float32).sample(ns),[-1,nn]))\n",
    "y = add_layer(sh2, \"why\", nn, dim, tf.nn.sigmoid)"
   ]
  },
  {
   "cell_type": "code",
   "execution_count": 5,
   "metadata": {
    "collapsed": true
   },
   "outputs": [],
   "source": [
    "y = -log_prob(y, tf.tile(y_,[ns**2,1]))\n",
    "nll = tf.reduce_mean(tf.reduce_sum(y,1))\n",
    "yx = tf.reduce_mean(tf.reshape(y,[ns,-1,dim]),0)\n",
    "\n",
    "# multi-sample objective\n",
    "#y = prob(y, tf.tile(y_,[ns**2,1]))\n",
    "#nll = tf.reduce_mean(tf.reduce_sum(-tf.log(tf.reduce_mean(tf.reshape(y,[ns**2,batch,dim]),0)+eps),1))\n",
    "#dnll = -1/(tf.reduce_mean(tf.reshape(y,[ns**2,batch,dim]),0)+eps)"
   ]
  },
  {
   "cell_type": "code",
   "execution_count": 6,
   "metadata": {
    "collapsed": true
   },
   "outputs": [],
   "source": [
    "lr = tf.placeholder(tf.float32)\n",
    "opt = tf.train.AdamOptimizer(lr)\n",
    "dy = opt.compute_gradients(nll, get_weights(\"why\")) \n",
    "dh = likelihood_ratio(tf.reduce_sum(y,1,keep_dims=True), h2, sh2, get_weights(\"whh\"))\n",
    "dx = likelihood_ratio(tf.reduce_sum(y,1,keep_dims=True), h, sh, get_weights(\"wxh\"))\n",
    "\n",
    "gd = [list(i) for i in dy]+[list(i) for i in dh]+[list(i) for i in dx]\n",
    "for i in range(3):\n",
    "    gd[i][0] = tf.check_numerics(gd[i][0], str(i))\n",
    "gdn = (tf.norm(gd[2][0])+tf.norm(gd[1][0]))/2.\n",
    "train = tf.cond(reinforce, lambda: opt.apply_gradients(gd), lambda: opt.minimize(nll))"
   ]
  },
  {
   "cell_type": "markdown",
   "metadata": {},
   "source": [
    "### muProp"
   ]
  },
  {
   "cell_type": "code",
   "execution_count": null,
   "metadata": {
    "collapsed": true
   },
   "outputs": [],
   "source": [
    "def muProp(p, s, layer, wx, wh, wy):\n",
    "    p_ = tf.concat([p, tf.ones([tf.shape(p)[0],1])], 1)\n",
    "    if layer==1:\n",
    "        p_ = tf.nn.sigmoid(tf.matmul(p_,tf.transpose(wh)))\n",
    "        p_ = tf.concat([p_, tf.ones([tf.shape(p_)[0],1])], 1)\n",
    "    z = tf.nn.sigmoid(tf.matmul(p_,tf.transpose(wy)))\n",
    "    z = -log_prob(z, tf.tile(y_,[ns**(layer-1),1]))\n",
    "#    z = tf.stop_gradient(tf.tile(dnll,[ns**(layer-1),1]))*prob(z, tf.tile(y_,[ns**(layer-1),1]))\n",
    "    z = tf.reduce_sum(z,1,keep_dims=True)\n",
    "    \n",
    "    dfh = tf.gradients(z,p)[0]\n",
    "    g = z + tf.reduce_sum(dfh*(s-p),1,keep_dims=True)\n",
    "    w = wx if layer==1 else wh\n",
    "    mg = tf.stop_gradient(dfh)*p    \n",
    "    dmg = tf.gradients(tf.reduce_mean(mg, 0), w)[0]\n",
    "    return g, dmg\n",
    "\n",
    "\n",
    "cvh = muProp(h2, sh2, 2, get_weights(\"wxh\"), get_weights(\"whh\"), get_weights(\"why\"))\n",
    "cvx = muProp(h, sh, 1, get_weights(\"wxh\"), get_weights(\"whh\"), get_weights(\"why\"))\n",
    "\n",
    "mdh = likelihood_ratio(tf.reduce_sum(y,1,keep_dims=True)-cvh[0], h2, sh2, get_weights(\"whh\"))\n",
    "mdx = likelihood_ratio(tf.reduce_sum(yx,1,keep_dims=True)-cvx[0], h, sh, get_weights(\"wxh\"))\n",
    "\n",
    "#dnlly = tf.tile(dnll,[ns**2,1])*y\n",
    "#mdh = likelihood_ratio(tf.reduce_sum(dnlly,1,keep_dims=True)-cvh[0], h2, sh2, get_weights(\"whh\"))\n",
    "#mdx = likelihood_ratio(tf.reduce_sum(tf.reduce_mean(tf.reshape(dnlly,[ns,-1,dim]),0),\n",
    "#                                     1,keep_dims=True)-cvx[0], h, sh, get_weights(\"wxh\"))\n",
    "\n",
    "mpgd = [list(i) for i in dy]+[list(i) for i in mdh]+[list(i) for i in mdx]\n",
    "mpgd[1][0] += cvh[1]\n",
    "mpgd[2][0] += cvx[1]\n",
    "for i in range(3):\n",
    "    mpgd[i][0] = tf.check_numerics(mpgd[i][0], str(i))\n",
    "mpgdn = (tf.norm(mpgd[2][0])+tf.norm(mpgd[1][0]))/2.\n",
    "mp_train = opt.apply_gradients(mpgd)"
   ]
  },
  {
   "cell_type": "markdown",
   "metadata": {},
   "source": [
    "### NVIL"
   ]
  },
  {
   "cell_type": "code",
   "execution_count": 184,
   "metadata": {
    "collapsed": true,
    "scrolled": false
   },
   "outputs": [],
   "source": [
    "baseline = tf.placeholder(tf.float32)\n",
    "\n",
    "def idb(z, w, n, f):\n",
    "    s1 = add_layer(z, w+\"_\", n, nn, tf.nn.tanh)\n",
    "    s2 = add_layer(s1, w, nn, 1)\n",
    "    loss = tf.reduce_mean(tf.reduce_sum(tf.square(tf.stop_gradient(f)-s2),1))\n",
    "    return loss, s2\n",
    "\n",
    "bs = tf.cond(ts<1, lambda: tf.reduce_mean(y),\n",
    "                   lambda: .999*baseline + .001*tf.reduce_mean(y))\n",
    "\n",
    "bx = idb(x, \"widbx\", dim, y-bs)\n",
    "bh = idb(sh, \"widbh\", nn, y-bs)\n",
    "\n",
    "bdh = likelihood_ratio(tf.reduce_sum(y-bs-bh[1],1,keep_dims=True), h2, sh2, get_weights(\"whh\"))\n",
    "bdx = likelihood_ratio(tf.reduce_sum(y-bs-bx[1],1,keep_dims=True), h, sh, get_weights(\"wxh\"))\n",
    "\n",
    "bgd = [list(i) for i in dy]+[list(i) for i in bdh]+[list(i) for i in bdx]\n",
    "for i in range(3):\n",
    "    bgd[i][0] = tf.check_numerics(bgd[i][0], str(i))\n",
    "bgdn = (tf.norm(bgd[2][0])+tf.norm(bgd[1][0]))/2.\n",
    "btrain = opt.apply_gradients(bgd)\n",
    "\n",
    "optt = tf.train.AdamOptimizer(lr*10, beta2=.99999)\n",
    "ibtrain = optt.minimize(bx[0]+bh[0])"
   ]
  },
  {
   "cell_type": "markdown",
   "metadata": {},
   "source": [
    "### REBAR"
   ]
  },
  {
   "cell_type": "code",
   "execution_count": null,
   "metadata": {
    "collapsed": true
   },
   "outputs": [],
   "source": []
  },
  {
   "cell_type": "markdown",
   "metadata": {},
   "source": [
    "### Biased estimator"
   ]
  },
  {
   "cell_type": "code",
   "execution_count": 7,
   "metadata": {
    "collapsed": true
   },
   "outputs": [],
   "source": [
    "def straight_through(p):\n",
    "    stsh = tf.stop_gradient(tf.reshape(Bernoulli(probs=p,dtype=tf.float32).sample(ns),[-1,nn])-p)+p\n",
    "    p2 = add_layer(stsh, \"whh\", nn, nn, tf.nn.sigmoid)\n",
    "    stsh2 = tf.stop_gradient(tf.reshape(Bernoulli(probs=p2,dtype=tf.float32).sample(ns),[-1,nn])-p2)+p2\n",
    "    sty = -log_prob(add_layer(stsh2, \"why\", nn, dim, tf.nn.sigmoid), tf.tile(y_,[ns**2,1]))\n",
    "    return tf.reduce_mean(tf.reduce_sum(sty,1))\n",
    "\n",
    "sttrain = opt.minimize(straight_through(h))\n",
    "\n",
    "\n",
    "def Gumbel_dist(p):\n",
    "    g0 = -tf.log(-tf.log(tf.random_uniform(tf.shape(p))))\n",
    "    g1 = -tf.log(-tf.log(tf.random_uniform(tf.shape(p))))\n",
    "    u1 = tf.exp((tf.log(p+eps)+g1)/tau)\n",
    "    u0 = tf.exp((tf.log(1-p+eps)+g0)/tau)\n",
    "    return u1/(u0+u1+eps)\n",
    "\n",
    "def Gumbel(p):\n",
    "    stsh = Gumbel_dist(p)\n",
    "    p2 = add_layer(stsh, \"whh\", nn, nn, tf.nn.sigmoid)\n",
    "    stsh2 = Gumbel_dist(p2)\n",
    "    sty = -log_prob(add_layer(stsh2, \"why\", nn, dim, tf.nn.sigmoid), tf.tile(y_,[ns**2,1]))\n",
    "    return tf.reduce_mean(tf.reduce_sum(sty,1))\n",
    "\n",
    "gbtrain = opt.minimize(Gumbel(h))"
   ]
  },
  {
   "cell_type": "markdown",
   "metadata": {},
   "source": [
    "### Train"
   ]
  },
  {
   "cell_type": "code",
   "execution_count": 15,
   "metadata": {},
   "outputs": [
    {
     "name": "stdout",
     "output_type": "stream",
     "text": [
      "\n"
     ]
    }
   ],
   "source": [
    "def fit_model(steps, filename):\n",
    "    loss_rec = np.empty((1000, steps/1000))\n",
    "    gd_rec = np.empty((1000, steps/1000))\n",
    "    _lr = 3e-4\n",
    "    _tau = 1\n",
    "    _bs = 0.\n",
    "    \n",
    "    with tf.Session() as sess:\n",
    "        sess.run(tf.global_variables_initializer())            \n",
    "        for i in range(steps):\n",
    "            batch_   = data.next_batch(24, shuffle=True)[0]\n",
    "            batch_xs = batch_[:, 0:dim]\n",
    "            batch_ys = batch_[:, dim:2*dim]\n",
    "            \n",
    "            res = sess.run([nll,\n",
    "#                            gdn, train],\n",
    "#                            mpgdn, mp_train],\n",
    "#                            bgdn, btrain, ibtrain, bs],\n",
    "#                            gbtrain],\n",
    "                            retrain],\n",
    "                            {x: batch_xs, y_: batch_ys, lr: _lr, ts:i, tau:_tau,\n",
    "#                             baseline: _bs, \n",
    "                           })                \n",
    "#            _bs = res[-1]\n",
    "\n",
    "            if (i+1)%50000==0 and _lr>1e-5:\n",
    "                _lr /= 2.\n",
    "            if (i+1)%50000==0 and _tau>.1:            \n",
    "                _tau /= 2.\n",
    "                \n",
    "            loss_rec[i%1000, i/1000], gd_rec[i%1000, i/1000] = res[0], res[1]\n",
    "            if (i+1)%1000==0:\n",
    "                print (i+1)/1000, np.mean(loss_rec[:, i/1000], 0),\n",
    "\n",
    "    np.save(filename, [loss_rec, gd_rec]) \n",
    "    return loss_rec, gd_rec, batch_xs, batch_ys, res[1]"
   ]
  },
  {
   "cell_type": "code",
   "execution_count": 16,
   "metadata": {
    "collapsed": true
   },
   "outputs": [
    {
     "name": "stdout",
     "output_type": "stream",
     "text": [
      "1 85.1931525116 2 37.0079709969 3 30.8889741325 4 29.2643029575 5 28.8232620354 6 28.6470159035 7 28.5983409595 8 28.5760837955 9 28.5524344559 10 28.5642695866 11 28.3211399803 12 27.9100244007 13 27.5858862915 14 27.2605933056 15 27.0126775894 16 26.6887268276 17 26.4882860126 18 26.3269439602 19 26.1459158154 20 25.9663498325 21 25.8225668449 22 25.6887855396 23 25.5403409538 24 25.4298279495 25 25.3423433113 26 25.2322600422 27 25.1430352516 28 25.0821149292 29 24.942521244 30 24.9160712776 31 24.8301703529 32 24.8112124138 33 24.7661134224 34 24.6776821079 35 24.6260153637 36 24.5591216469 37 24.4875038452 38 24.467160677 39 24.4261938076 40 24.335731739 41 24.372785881 42 24.3252127075 43 24.2422559071 44 24.2596995449 45 24.1839357033 46 24.1708813934 47 24.1377755833 48 24.1000518742 49 24.0774711857 50 24.0395582809 51 23.9115918407 52 23.916208622 53 23.8374834347 54 23.8584476891 55 23.8422804108 56 23.7244538269 57 23.8139757805 58 23.755732523 59 23.7791515007 60 23.8013499336 61 23.6501534081 62 23.7496616249 63 23.7099247379 64 23.6231421032 65 23.5694257793 66 23.6873801441 67 23.6201186905 68 23.6433252602 69 23.5780335999 70 23.5594770069 71 23.5842368107 72 23.5572345371 73 23.5677030773 74 23.5445952435 75 23.5346617813 76 23.5025780792 77 23.509037838 78 23.529725893 79 23.458109808 80 23.5007814541 81 23.388929287 82 23.5142582188 83 23.4414211845 84 23.4325223007 85 23.413750988 86 23.4082163277 87 23.3961053429 88 23.3777134762 89 23.4411079731 90 23.4100771027 91 23.3642368011 92 23.3747924175 93 23.3513836403 94 23.3331478977 95 23.3268651791 96 23.3244036217 97 23.333648737 98 23.3413211136 99 23.3231870804 100 23.2428663902 101 23.2625211048 102 23.2934848232 103 23.2699339314 104 23.2464258041 105 23.2436660576 106 23.316816227 107 23.2291533527 108 23.2807926979 109 23.2255591946 110 23.284270874 111 23.2114642143 112 23.2900424786 113 23.2039090919 114 23.2238820057 115 23.2142068882 116 23.2274877892 117 23.1974813595 118 23.194224947 119 23.2057203121 120 23.1674100819"
     ]
    },
    {
     "ename": "KeyboardInterrupt",
     "evalue": "",
     "output_type": "error",
     "traceback": [
      "\u001b[0;31m---------------------------------------------------------------------------\u001b[0m",
      "\u001b[0;31mKeyboardInterrupt\u001b[0m                         Traceback (most recent call last)",
      "\u001b[0;32m<ipython-input-16-e7b2fa8d24d0>\u001b[0m in \u001b[0;36m<module>\u001b[0;34m()\u001b[0m\n\u001b[0;32m----> 1\u001b[0;31m \u001b[0mtest0\u001b[0m \u001b[0;34m=\u001b[0m \u001b[0mfit_model\u001b[0m\u001b[0;34m(\u001b[0m\u001b[0;36m200000\u001b[0m\u001b[0;34m,\u001b[0m \u001b[0;34m\"testGB\"\u001b[0m\u001b[0;34m)\u001b[0m\u001b[0;34m\u001b[0m\u001b[0m\n\u001b[0m",
      "\u001b[0;32m<ipython-input-15-c308d7e10d68>\u001b[0m in \u001b[0;36mfit_model\u001b[0;34m(steps, filename)\u001b[0m\n\u001b[1;32m     20\u001b[0m \u001b[0;31m#                            bgdn, btrain, ibtrain, bs],\u001b[0m\u001b[0;34m\u001b[0m\u001b[0;34m\u001b[0m\u001b[0m\n\u001b[1;32m     21\u001b[0m                             gbtrain],\n\u001b[0;32m---> 22\u001b[0;31m                             {x: batch_xs, y_: batch_ys, lr: _lr, ts:i, tau:_tau,\n\u001b[0m\u001b[1;32m     23\u001b[0m \u001b[0;31m#                             baseline: _bs,\u001b[0m\u001b[0;34m\u001b[0m\u001b[0;34m\u001b[0m\u001b[0m\n\u001b[1;32m     24\u001b[0m                            })                \n",
      "\u001b[0;32m/usr/local/lib/python2.7/site-packages/tensorflow/python/client/session.pyc\u001b[0m in \u001b[0;36mrun\u001b[0;34m(self, fetches, feed_dict, options, run_metadata)\u001b[0m\n\u001b[1;32m    776\u001b[0m     \u001b[0;32mtry\u001b[0m\u001b[0;34m:\u001b[0m\u001b[0;34m\u001b[0m\u001b[0m\n\u001b[1;32m    777\u001b[0m       result = self._run(None, fetches, feed_dict, options_ptr,\n\u001b[0;32m--> 778\u001b[0;31m                          run_metadata_ptr)\n\u001b[0m\u001b[1;32m    779\u001b[0m       \u001b[0;32mif\u001b[0m \u001b[0mrun_metadata\u001b[0m\u001b[0;34m:\u001b[0m\u001b[0;34m\u001b[0m\u001b[0m\n\u001b[1;32m    780\u001b[0m         \u001b[0mproto_data\u001b[0m \u001b[0;34m=\u001b[0m \u001b[0mtf_session\u001b[0m\u001b[0;34m.\u001b[0m\u001b[0mTF_GetBuffer\u001b[0m\u001b[0;34m(\u001b[0m\u001b[0mrun_metadata_ptr\u001b[0m\u001b[0;34m)\u001b[0m\u001b[0;34m\u001b[0m\u001b[0m\n",
      "\u001b[0;32m/usr/local/lib/python2.7/site-packages/tensorflow/python/client/session.pyc\u001b[0m in \u001b[0;36m_run\u001b[0;34m(self, handle, fetches, feed_dict, options, run_metadata)\u001b[0m\n\u001b[1;32m    980\u001b[0m     \u001b[0;32mif\u001b[0m \u001b[0mfinal_fetches\u001b[0m \u001b[0;32mor\u001b[0m \u001b[0mfinal_targets\u001b[0m\u001b[0;34m:\u001b[0m\u001b[0;34m\u001b[0m\u001b[0m\n\u001b[1;32m    981\u001b[0m       results = self._do_run(handle, final_targets, final_fetches,\n\u001b[0;32m--> 982\u001b[0;31m                              feed_dict_string, options, run_metadata)\n\u001b[0m\u001b[1;32m    983\u001b[0m     \u001b[0;32melse\u001b[0m\u001b[0;34m:\u001b[0m\u001b[0;34m\u001b[0m\u001b[0m\n\u001b[1;32m    984\u001b[0m       \u001b[0mresults\u001b[0m \u001b[0;34m=\u001b[0m \u001b[0;34m[\u001b[0m\u001b[0;34m]\u001b[0m\u001b[0;34m\u001b[0m\u001b[0m\n",
      "\u001b[0;32m/usr/local/lib/python2.7/site-packages/tensorflow/python/client/session.pyc\u001b[0m in \u001b[0;36m_do_run\u001b[0;34m(self, handle, target_list, fetch_list, feed_dict, options, run_metadata)\u001b[0m\n\u001b[1;32m   1030\u001b[0m     \u001b[0;32mif\u001b[0m \u001b[0mhandle\u001b[0m \u001b[0;32mis\u001b[0m \u001b[0mNone\u001b[0m\u001b[0;34m:\u001b[0m\u001b[0;34m\u001b[0m\u001b[0m\n\u001b[1;32m   1031\u001b[0m       return self._do_call(_run_fn, self._session, feed_dict, fetch_list,\n\u001b[0;32m-> 1032\u001b[0;31m                            target_list, options, run_metadata)\n\u001b[0m\u001b[1;32m   1033\u001b[0m     \u001b[0;32melse\u001b[0m\u001b[0;34m:\u001b[0m\u001b[0;34m\u001b[0m\u001b[0m\n\u001b[1;32m   1034\u001b[0m       return self._do_call(_prun_fn, self._session, handle, feed_dict,\n",
      "\u001b[0;32m/usr/local/lib/python2.7/site-packages/tensorflow/python/client/session.pyc\u001b[0m in \u001b[0;36m_do_call\u001b[0;34m(self, fn, *args)\u001b[0m\n\u001b[1;32m   1037\u001b[0m   \u001b[0;32mdef\u001b[0m \u001b[0m_do_call\u001b[0m\u001b[0;34m(\u001b[0m\u001b[0mself\u001b[0m\u001b[0;34m,\u001b[0m \u001b[0mfn\u001b[0m\u001b[0;34m,\u001b[0m \u001b[0;34m*\u001b[0m\u001b[0margs\u001b[0m\u001b[0;34m)\u001b[0m\u001b[0;34m:\u001b[0m\u001b[0;34m\u001b[0m\u001b[0m\n\u001b[1;32m   1038\u001b[0m     \u001b[0;32mtry\u001b[0m\u001b[0;34m:\u001b[0m\u001b[0;34m\u001b[0m\u001b[0m\n\u001b[0;32m-> 1039\u001b[0;31m       \u001b[0;32mreturn\u001b[0m \u001b[0mfn\u001b[0m\u001b[0;34m(\u001b[0m\u001b[0;34m*\u001b[0m\u001b[0margs\u001b[0m\u001b[0;34m)\u001b[0m\u001b[0;34m\u001b[0m\u001b[0m\n\u001b[0m\u001b[1;32m   1040\u001b[0m     \u001b[0;32mexcept\u001b[0m \u001b[0merrors\u001b[0m\u001b[0;34m.\u001b[0m\u001b[0mOpError\u001b[0m \u001b[0;32mas\u001b[0m \u001b[0me\u001b[0m\u001b[0;34m:\u001b[0m\u001b[0;34m\u001b[0m\u001b[0m\n\u001b[1;32m   1041\u001b[0m       \u001b[0mmessage\u001b[0m \u001b[0;34m=\u001b[0m \u001b[0mcompat\u001b[0m\u001b[0;34m.\u001b[0m\u001b[0mas_text\u001b[0m\u001b[0;34m(\u001b[0m\u001b[0me\u001b[0m\u001b[0;34m.\u001b[0m\u001b[0mmessage\u001b[0m\u001b[0;34m)\u001b[0m\u001b[0;34m\u001b[0m\u001b[0m\n",
      "\u001b[0;32m/usr/local/lib/python2.7/site-packages/tensorflow/python/client/session.pyc\u001b[0m in \u001b[0;36m_run_fn\u001b[0;34m(session, feed_dict, fetch_list, target_list, options, run_metadata)\u001b[0m\n\u001b[1;32m   1019\u001b[0m         return tf_session.TF_Run(session, options,\n\u001b[1;32m   1020\u001b[0m                                  \u001b[0mfeed_dict\u001b[0m\u001b[0;34m,\u001b[0m \u001b[0mfetch_list\u001b[0m\u001b[0;34m,\u001b[0m \u001b[0mtarget_list\u001b[0m\u001b[0;34m,\u001b[0m\u001b[0;34m\u001b[0m\u001b[0m\n\u001b[0;32m-> 1021\u001b[0;31m                                  status, run_metadata)\n\u001b[0m\u001b[1;32m   1022\u001b[0m \u001b[0;34m\u001b[0m\u001b[0m\n\u001b[1;32m   1023\u001b[0m     \u001b[0;32mdef\u001b[0m \u001b[0m_prun_fn\u001b[0m\u001b[0;34m(\u001b[0m\u001b[0msession\u001b[0m\u001b[0;34m,\u001b[0m \u001b[0mhandle\u001b[0m\u001b[0;34m,\u001b[0m \u001b[0mfeed_dict\u001b[0m\u001b[0;34m,\u001b[0m \u001b[0mfetch_list\u001b[0m\u001b[0;34m)\u001b[0m\u001b[0;34m:\u001b[0m\u001b[0;34m\u001b[0m\u001b[0m\n",
      "\u001b[0;31mKeyboardInterrupt\u001b[0m: "
     ]
    }
   ],
   "source": [
    "test0 = fit_model(200000, \"testGB\")"
   ]
  },
  {
   "cell_type": "code",
   "execution_count": 187,
   "metadata": {},
   "outputs": [
    {
     "data": {
      "image/png": "[encoded data removed]",
      "text/plain": [
       "<matplotlib.figure.Figure at 0x12a6a5690>"
      ]
     },
     "metadata": {},
     "output_type": "display_data"
    }
   ],
   "source": [
    "plt.style.use('default')\n",
    "fig, ax = plt.subplots(1,2, figsize=(16,5))\n",
    "ax[0].set_ylabel(\"Test negative log-likelihood\")\n",
    "ax[1].set_ylabel(\"Graidnet norm\")\n",
    "\n",
    "ax[0].set_ylim(20,30)\n",
    "#ax[1].set_ylim(0,80)\n",
    "for i in range(2):\n",
    "#    ax[i].set_xlim(0,100)\n",
    "#    ax[i].set_xlabel(\"Steps with the same # grads (1e4)\")\n",
    "#    ax[i].set_xlabel(\"Steps (1e4)\")\n",
    "\n",
    "    plot_banded_error(test0[i], \"MP_s\", ax[i])\n",
    "    plot_banded_error(test1[i], \"MP_m\", ax[i])\n",
    "    plot_banded_error(test2[i], \"NVIL_s\", ax[i])    \n",
    "\n",
    "    \n",
    "\n",
    "\n",
    "    fatlegend(ax[0])\n",
    "    ax[i].grid(True)\n",
    "plt.show()\n",
    "#fig.savefig('nll2_2.png')"
   ]
  },
  {
   "cell_type": "markdown",
   "metadata": {},
   "source": [
    "### SVRG"
   ]
  },
  {
   "cell_type": "code",
   "execution_count": null,
   "metadata": {
    "collapsed": true
   },
   "outputs": [],
   "source": [
    "_cch = tf.placeholder(tf.float32,[2,50,51])\n",
    "_ccx = tf.placeholder(tf.float32,[2,50,393])\n",
    "def ocoef(df, dg, _cov, _var):\n",
    "#    mff = .99*mf + .01*df\n",
    "    var_dg = tf.square(dg)\n",
    "    cov = df*dg\n",
    "    return 0.99*_cov+0.01*cov, 0.99*_var+0.01*var_dg\n",
    "\n",
    "_wxh = tf.placeholder(tf.float32, [50,393])\n",
    "_whh = tf.placeholder(tf.float32, [50,51])\n",
    "_why = tf.placeholder(tf.float32, [392,51])\n",
    "_dx = tf.placeholder(tf.float32, [50,393])\n",
    "_dh = tf.placeholder(tf.float32, [50,51])\n",
    "\n",
    "lh = tf.nn.sigmoid(tf.matmul(tf.concat([x,tf.ones([tf.shape(x)[0],1])],1), tf.transpose(_wxh)))\n",
    "lh2 = tf.nn.sigmoid(tf.matmul(tf.concat([sh,tf.ones([tf.shape(sh)[0],1])],1), tf.transpose(_whh)))\n",
    "ly  = prob(tf.nn.sigmoid(tf.matmul(tf.concat([sh2,tf.ones([tf.shape(sh2)[0],1])],1), tf.transpose(_why))),\n",
    "           tf.tile(y_,[ns**2,1]))\n",
    "ly_expect = tf.reduce_mean(tf.reshape(ly, [ns**2, -1, 392]), 0)\n",
    "\n",
    "_lh, _lh2 = [tf.tile(z, [ns, 1]) for z in [lh, lh2]]\n",
    "dlnll = tf.tile(-1/(ly_expect+eps), [ns**2,1])*ly\n",
    "lls2 = tf.stop_gradient(tf.reduce_sum(dlnll,1,keep_dims=True))*log_prob(_lh2, sh2)\n",
    "lls = tf.stop_gradient(tf.reduce_sum(tf.reduce_mean(tf.reshape(\n",
    "                       dlnll,[ns,-1,392]),0),1,keep_dims=True))*log_prob(_lh, sh)\n",
    "\n",
    "ldh = tf.gradients(tf.reduce_mean(lls2, 0), _whh)[0]\n",
    "ldx = tf.gradients(tf.reduce_mean(lls, 0),_wxh)[0]\n",
    "\n",
    "_cvh = muProp(lh2, sh2, 2, _wxh, _whh, _why)\n",
    "_cvx = muProp(lh, sh, 1, _wxh, _whh, _why)\n",
    "\n",
    "lcx = ocoef(dx[0][0],ldx,_ccx[0], _ccx[1])\n",
    "lch = ocoef(dh[0][0],ldh,_cch[0], _cch[1])\n",
    "_lcx = lcx[0]/(lcx[1]+eps)\n",
    "_lch = lch[0]/(lch[1]+eps)\n",
    "\n",
    "lgd = [list(i) for i in dy] + [list(i) for i in dh] + [list(i) for i in dx]\n",
    "\n",
    "lgd[2][0] -= ldx-_dx+cvx[0]-_cvx[0]\n",
    "lgd[1][0] -= ldh-_dh+cvh[0]-_cvh[0]\n",
    "\n",
    "lgdn = (tf.norm(lgd[2][0])+tf.norm(lgd[1][0]))/2.\n",
    "ltrain_step = opt.apply_gradients(lgd)"
   ]
  },
  {
   "cell_type": "code",
   "execution_count": null,
   "metadata": {
    "collapsed": true
   },
   "outputs": [],
   "source": [
    "#rl = .0001\n",
    "rl = .01\n",
    "#rl=1.\n",
    "\n",
    "#kld = .00001\n",
    "kld = .05\n",
    "#kld=1.\n",
    "\n",
    "nn = 4\n",
    "\n",
    "ts = tf.placeholder(tf.float32)\n",
    "nsvrg = tf.placeholder(tf.bool)\n",
    "beta = .999\n",
    "alpha = .9\n",
    "\n",
    "fimx = tf.placeholder(tf.float32,[3,50,393])\n",
    "fimh = tf.placeholder(tf.float32,[50,51,None])\n",
    "\n",
    "djh = tf.placeholder(tf.float32,[50,51])\n",
    "djy = tf.placeholder(tf.float32,[2,392,51])\n",
    "\n",
    "def arrow_fisher(p, s, w, acc, g):\n",
    "    J = tf.transpose(1/(eps+tf.sqrt(p*(1-p))))*tf.gradients(p,w)[0]\n",
    "    dJ = beta*acc[0]+(1-beta)*tf.square(J)\n",
    "    rJ = beta*acc[1]+(1-beta)*J*tf.expand_dims(J[:,-1], -1)\n",
    "    u = tf.concat([rJ[:,0:-1]/(dJ[:,0:-1]+rl), -1*tf.ones([tf.shape(rJ)[0],1])],1)\n",
    "    rho = tf.transpose([1./((1.-392.)*dJ[:,-1]+rl)])\n",
    "    \n",
    "    gg = alpha*acc[2] + (1-alpha)*g\n",
    "    ng = tf.concat([gg[:,0:-1]/(dJ[:,0:-1]+rl), tf.zeros([tf.shape(gg)[0],1])],1)\n",
    "    ng += tf.reduce_sum(u*gg,1,keep_dims=True)*u*rho\n",
    "    \n",
    "    ng = tf.check_numerics(ng/(1-tf.pow(alpha,ts+1))*(1-tf.pow(beta,ts+1)), \"xx\")\n",
    "    ac = tf.concat([tf.concat([[dJ],[rJ]],0),[gg]],0)\n",
    "    return .01*ng, ac\n",
    "\n",
    "def fisher(p, s, w, acc, g):\n",
    "    f = tf.reshape(p,[nn,-1,50])\n",
    "    gg = tf.transpose(tf.transpose(1./(tf.sqrt(f*(1-f))+eps),perm=[0,2,1])*jacobian(f,w),perm=[1,2,0])\n",
    "    XX = tf.concat([np.sqrt(beta)*acc, np.sqrt(1-beta)*gg/2.], 2)\n",
    "    FIM = tf.matmul(XX,tf.transpose(XX, perm=[0,2,1]))\n",
    "    \n",
    "    k,Xk = 5,1\n",
    "    XX = tf.cond(tf.greater_equal(tf.shape(XX)[2], 100*Xk),\n",
    "                 lambda: tf.transpose(tf.svd(FIM)[1][:,0:k,:]*tf.expand_dims(tf.sqrt(tf.svd(FIM)[0][:,0:k]),2),\n",
    "                                      perm=[0,2,1]),\n",
    "                 lambda: XX)\n",
    "    \n",
    "    FIM += tf.tile(tf.expand_dims(tf.diag(tf.ones([51])*rl),0),[50,1,1])    \n",
    "    iFIM = tf.matrix_inverse(FIM/(1-tf.pow(beta,ts+1)))\n",
    "    g = tf.expand_dims(g,2)\n",
    "    ng = tf.check_numerics(tf.matmul(iFIM, g)/(1-tf.pow(alpha,ts+1)),\"hh\")\n",
    "\n",
    "#    sz = tf.sqrt(2*kld/(eps+tf.matmul(tf.matmul(tf.transpose(g,perm=[0,2,1]), FIM), g)))\n",
    "    return tf.squeeze(kld*ng), XX\n",
    "\n",
    "\n",
    "ngd = [list(i) for i in dy] + [list(i) for i in dh] + [list(i) for i in dx]\n",
    "hdj = alpha*djh+(1-alpha)*(ngd[1][0]-cvh[0]-ldh+_cvh[0]+_dh)\n",
    "ngd[1][0], fmh = fisher(h2,sh2,get_weights(\"whh\"),fimh, hdj/(1-tf.pow(alpha,ts+1)))\n",
    "\n",
    "xdj = ngd[2][0]-cvx[0]-ldx+_cvx[0]+_dx\n",
    "ngd[2][0], fmx = arrow_fisher(h, sh, get_weights(\"wxh\"), fimx, xdj)\n",
    "\n",
    "mvy = beta*djy[0]+(1-beta)*tf.square(ngd[0][0])\n",
    "mgy = alpha*djy[1]+(1-alpha)*ngd[0][0]\n",
    "ydj = tf.concat([[mvy],[mgy]],0)\n",
    "ngd[0][0] = tf.check_numerics(mgy/(tf.sqrt(mvy)+eps)*(1-tf.pow(beta,ts+1))/(1-tf.pow(alpha,ts+1)), \"yy\")\n",
    "\n",
    "ngdn = (tf.norm(ngd[2][0])+tf.norm(ngd[1][0]))/2.\n",
    "ntrain_step = opt.apply_gradients(ngd)"
   ]
  },
  {
   "cell_type": "code",
   "execution_count": null,
   "metadata": {
    "collapsed": true
   },
   "outputs": [],
   "source": [
    "batch_xs = ngd_svrg[2]\n",
    "batch_ys = ngd_svrg[3]\n",
    "prdt = ngd_svrg[4]\n",
    "bs = 1"
   ]
  },
  {
   "cell_type": "code",
   "execution_count": null,
   "metadata": {
    "collapsed": true
   },
   "outputs": [],
   "source": [
    "fig, ax = plt.subplots(1,2, figsize=(16,8))\n",
    "up = np.concatenate([j for j in [np.reshape(i,[7,14]) for i in batch_xs]], 1)\n",
    "dw = np.concatenate([j for j in [np.reshape(i,[7,14]) for i in batch_ys]], 1)\n",
    "p1 = np.concatenate(np.split(np.concatenate([up,dw], 0), 1, 1), 0)\n",
    "#dwy = np.concatenate([j for j in [np.reshape(i,[14,28]) for i in prdt]], 1)\n",
    "#p2 = np.concatenate(np.split(np.concatenate([up,dwy], 0), bs, 1), 0)\n",
    "ax[0].imshow(p1, cmap=plt.cm.gray, interpolation='none')\n",
    "#ax[1].imshow(p2, cmap=plt.cm.gray, interpolation='none')\n",
    "ax[0].grid(False)\n",
    "#ax[1].grid(False)\n",
    "plt.show()"
   ]
  },
  {
   "cell_type": "code",
   "execution_count": null,
   "metadata": {
    "collapsed": true
   },
   "outputs": [],
   "source": []
  }
 ],
 "metadata": {
  "kernelspec": {
   "display_name": "Python 2",
   "language": "python",
   "name": "python2"
  },
  "language_info": {
   "codemirror_mode": {
    "name": "ipython",
    "version": 2
   },
   "file_extension": ".py",
   "mimetype": "text/x-python",
   "name": "python",
   "nbconvert_exporter": "python",
   "pygments_lexer": "ipython2",
   "version": "2.7.13"
  }
 },
 "nbformat": 4,
 "nbformat_minor": 2
}
