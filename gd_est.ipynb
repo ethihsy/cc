{
 "cells": [
  {
   "cell_type": "code",
   "execution_count": 128,
   "metadata": {},
   "outputs": [
    {
     "name": "stdout",
     "output_type": "stream",
     "text": [
      "Extracting MNIST_data/train-images-idx3-ubyte.gz\n",
      "Extracting MNIST_data/train-labels-idx1-ubyte.gz\n",
      "Extracting MNIST_data/t10k-images-idx3-ubyte.gz\n",
      "Extracting MNIST_data/t10k-labels-idx1-ubyte.gz\n"
     ]
    }
   ],
   "source": [
    "import numpy as np\n",
    "import tensorflow as tf\n",
    "import matplotlib.pyplot as plt\n",
    "from tensorflow.examples.tutorials.mnist import input_data\n",
    "\n",
    "Bernoulli = tf.contrib.distributions.Bernoulli\n",
    "st = tf.contrib.bayesflow.stochastic_tensor\n",
    "\n",
    "data = input_data.read_data_sets(\"MNIST_data/\", one_hot=True).test\n",
    "data.images[data.images>0.5] = 1.0\n",
    "data.images[data.images<=0.5] = 0.0"
   ]
  },
  {
   "cell_type": "code",
   "execution_count": 129,
   "metadata": {
    "collapsed": true
   },
   "outputs": [],
   "source": [
    "batch_size = 40\n",
    "ns = 1\n",
    "lr = 1e-3\n",
    "eps = 1e-7\n",
    "alpha = 0.9\n",
    "PD = False"
   ]
  },
  {
   "cell_type": "code",
   "execution_count": 130,
   "metadata": {
    "collapsed": true
   },
   "outputs": [],
   "source": [
    "def add_layer(inputs, wn, bn, in_dim, out_dim, af=None):\n",
    "    try:\n",
    "        w = tf.get_variable(wn, [in_dim, out_dim], initializer=tf.truncated_normal_initializer)\n",
    "        b = tf.get_variable(bn, [1, out_dim], initializer=tf.truncated_normal_initializer)\n",
    "    except:\n",
    "        with tf.variable_scope(tf.get_variable_scope(), reuse=True):\n",
    "            w = tf.get_variable(wn, [in_dim, out_dim], initializer=tf.truncated_normal_initializer)\n",
    "            b = tf.get_variable(bn, [1, out_dim], initializer=tf.truncated_normal_initializer)\n",
    "    if af is None:\n",
    "        return tf.matmul(inputs, w) + b\n",
    "    return af(tf.matmul(inputs, w) + b)\n",
    "\n",
    "def sample(p):\n",
    "    return st.StochasticTensor(dist=Bernoulli(probs=p, dtype=tf.float32),\n",
    "                               dist_value_type=st.SampleValue()).value()\n",
    "\n",
    "def prob(p, s):\n",
    "    return s*p + (1.0-s)*(1.0-p)"
   ]
  },
  {
   "cell_type": "code",
   "execution_count": 131,
   "metadata": {
    "collapsed": true
   },
   "outputs": [],
   "source": [
    "x = tf.placeholder(tf.float32, [None, 392])\n",
    "yy = tf.placeholder(tf.float32, [None, 392])\n",
    "y_ = tf.tile(yy, [ns, 1])\n",
    "\n",
    "h = tf.tile(tf.clip_by_value(add_layer(x, \"wxh\", \"bxh\", 392, 200, tf.nn.sigmoid), eps, 1.0-eps), [ns, 1])\n",
    "if PD is False:\n",
    "    sh = tf.stop_gradient(sample(h))\n",
    "else:\n",
    "    sh = tf.stop_gradient(sample(h)-h)+h\n",
    "y = tf.clip_by_value(add_layer(sh, \"why\", \"bhy\", 200, 392, tf.nn.sigmoid), eps, 1.0-eps)\n",
    "    \n",
    "y = prob(y, y_)\n",
    "y_sum = tf.reduce_sum(tf.reshape(y, [ns, batch_size, 392]), 0)\n",
    "y_expect = tf.clip_by_value(y_sum/ns, eps, 1.0-eps)\n",
    "\n",
    "nll = tf.reduce_mean(tf.reduce_sum(-tf.log(y_expect), 1))\n",
    "loss = tf.reduce_sum(-tf.log(y), 1, keep_dims=True) / ns\n",
    "\n",
    "saver = tf.train.Saver()"
   ]
  },
  {
   "cell_type": "code",
   "execution_count": 137,
   "metadata": {},
   "outputs": [],
   "source": [
    "bsln = tf.placeholder(tf.float32)\n",
    "bslnv = tf.placeholder(tf.float32)\n",
    "\n",
    "def LR(md):\n",
    "    func = {\n",
    "        0: lambda: [loss]+[tf.constant(0.)]*4,\n",
    "        1: muProp,\n",
    "        2: DARN,\n",
    "        3: baseline,\n",
    "        4: NVIL,\n",
    "    }\n",
    "    ls, mu, tr, m, v = func.get(md)()\n",
    "    loss_h = tf.reduce_mean(tf.reduce_sum(tf.stop_gradient(ls)*tf.log(prob(h, sh)) + mu, 1))\n",
    "    train_step = tf.train.AdamOptimizer(lr).minimize(nll+loss_h+tr)\n",
    "    return train_step, nll, m, v\n",
    "\n",
    "def baseline():\n",
    "    b = alpha*bsln + (1.0-alpha)*nll\n",
    "    return loss-b, 0., 0., b, tf.constant(0.)\n",
    "\n",
    "def muProp():\n",
    "    ch = tf.clip_by_value(add_layer(h, \"why\", \"bhy\", 200, 392, tf.nn.sigmoid), eps, 1.0-eps)\n",
    "    loss_ch = tf.reduce_sum(-tf.log(prob(ch, y_)), 1, keep_dims=True)\n",
    "    dh = tf.gradients(loss_ch, h)[0]\n",
    "    return loss-loss_ch-tf.reduce_sum(dh*(sh-h),1,keep_dims=True), tf.stop_gradient(dh)*h, 0., tf.constant(0.), tf.constant(0.)\n",
    "        \n",
    "def DARN():\n",
    "    dh = tf.gradients(loss, sh)[0]\n",
    "    return dh*(sh-0.5), 0., 0., tf.constant(0.), tf.constant(0.)\n",
    "\n",
    "def NVIL():\n",
    "    ch = add_layer(x, \"wh\", \"bh\", 392, 100, tf.tanh)\n",
    "    cy = add_layer(ch, \"wy\", \"by\", 100, 1)\n",
    "    b = alpha*bsln + tf.reduce_mean((1.0-alpha)*(loss-cy))\n",
    "    vv = tf.reduce_mean(tf.square(loss-tf.reduce_mean((loss-cy))))*ns/tf.maximum(1.0, ns-1)\n",
    "    v = alpha*bslnv + (1.0-alpha)*vv\n",
    "    return (loss-cy-b)/tf.maximum(1.0,tf.sqrt(v)), 0., tf.reduce_mean(tf.square(tf.stop_gradient(loss-b)-cy)), b, v\n",
    "\n",
    "def ST_():\n",
    "    train_step = tf.train.AdamOptimizer(lr).minimize(nll)\n",
    "    return train_step, nll, tf.constant(0.), tf.constant(0.)"
   ]
  },
  {
   "cell_type": "code",
   "execution_count": 138,
   "metadata": {
    "collapsed": true
   },
   "outputs": [],
   "source": [
    "def train(train_op):\n",
    "    with tf.Session() as sess:\n",
    "        bl = 0.\n",
    "        vr = 0.\n",
    "        ll = []\n",
    "        t = 0.\n",
    "        sess.run(tf.global_variables_initializer())\n",
    "\n",
    "        for i in range(50000):\n",
    "            batch_ = data.next_batch(batch_size)[0]\n",
    "            batch_xs = batch_[:,0:392]\n",
    "            batch_ys = batch_[:,392:784]\n",
    "\n",
    "            res = sess.run(train_op, {x: batch_xs, yy: batch_ys, bsln: bl, bslnv: vr})\n",
    "            bl = res[2]\n",
    "            vr = res[3]\n",
    "            \n",
    "            t += res[1]\n",
    "            if (i+1)%1000==0:\n",
    "                t /= 1000\n",
    "                ll.append(t)\n",
    "                print i/1000, t,\n",
    "                t = 0.\n",
    "                \n",
    "       # save_path = saver.save(sess, \"model/model.ckpt\")\n",
    "    return ll"
   ]
  },
  {
   "cell_type": "code",
   "execution_count": 139,
   "metadata": {},
   "outputs": [
    {
     "name": "stdout",
     "output_type": "stream",
     "text": [
      "0 352.374946442 1 206.952635986 2 164.061062744 3 137.196864418 4 118.499370453 5 105.512537575 6 97.2381313248 7 91.8811565933 8 88.3771812515 9 86.0626764069 10 84.4036172791 11 83.1968920517 12 82.1555700531 13 81.3439987106 14 80.6318422318 15 80.2104698677 16 79.7296213379 17 79.1897517166 18 78.7165246544 19 78.522182251 20 78.0970272751 21 77.7401103287 22 77.3937477798 23 77.1512450104 24 76.8322091103 25 76.6244315262 26 76.4037404442 27 76.1512595787 28 75.9970048065 29 75.7274572563 30 75.4169388695 31 75.2024846268 32 75.0478493004 33 74.8484517899 34 74.6571991577 35 74.4900639267 36 74.4704264374 37 74.0820215149 38 73.9035241547 39 73.7681795235 40 73.5228906898 41 73.3476147079 42 73.2456052208 43 73.1416236191 44 72.9341568832 45 72.7296318245 46 72.5975943146 47 72.4609344025 48 72.3593904762 49 72.1639881096\n"
     ]
    }
   ],
   "source": [
    "#train_op = ST_()\n",
    "train_op = LR(4)\n",
    "nv = train(train_op)"
   ]
  },
  {
   "cell_type": "code",
   "execution_count": 144,
   "metadata": {},
   "outputs": [
    {
     "data": {
      "image/png": "[encoded data removed]",
      "text/plain": [
       "<matplotlib.figure.Figure at 0x137002590>"
      ]
     },
     "metadata": {},
     "output_type": "display_data"
    }
   ],
   "source": [
    "fig = plt.figure()\n",
    "ax = plt.subplot(111)\n",
    "plt.xlim(0, 50)\n",
    "plt.ylim(65, 100)\n",
    "\n",
    "#1 hl\n",
    "ax.plot(lhr, '.-',label=\"lr\")\n",
    "ax.plot(lhrb, '.-',label=\"lr_b\")\n",
    "ax.plot(mp, '.-', label=\"muprop\")\n",
    "ax.plot(dn, '.-', label=\"darn\")\n",
    "ax.plot(nv, '.-', label=\"nvil\")\n",
    "\n",
    "plt.legend()\n",
    "plt.ylabel(\"Negative Log-Likelihood\")\n",
    "plt.xlabel(\"Steps (x1e3)\")\n",
    "plt.grid()\n",
    "plt.show()\n",
    "#fig.savefig('foo.png')"
   ]
  }
 ],
 "metadata": {
  "kernelspec": {
   "display_name": "Python 2",
   "language": "python",
   "name": "python2"
  },
  "language_info": {
   "codemirror_mode": {
    "name": "ipython",
    "version": 2
   },
   "file_extension": ".py",
   "mimetype": "text/x-python",
   "name": "python",
   "nbconvert_exporter": "python",
   "pygments_lexer": "ipython2",
   "version": "2.7.13"
  }
 },
 "nbformat": 4,
 "nbformat_minor": 2
}
